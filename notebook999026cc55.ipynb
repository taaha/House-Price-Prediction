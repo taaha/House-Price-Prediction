{
 "cells": [
  {
   "cell_type": "code",
   "execution_count": 1,
   "id": "d9f6d7b0",
   "metadata": {
    "_cell_guid": "b1076dfc-b9ad-4769-8c92-a6c4dae69d19",
    "_uuid": "8f2839f25d086af736a60e9eeb907d3b93b6e0e5",
    "execution": {
     "iopub.execute_input": "2022-11-15T13:16:30.130751Z",
     "iopub.status.busy": "2022-11-15T13:16:30.130100Z",
     "iopub.status.idle": "2022-11-15T13:16:30.946378Z",
     "shell.execute_reply": "2022-11-15T13:16:30.944641Z"
    },
    "papermill": {
     "duration": 0.839904,
     "end_time": "2022-11-15T13:16:30.950825",
     "exception": false,
     "start_time": "2022-11-15T13:16:30.110921",
     "status": "completed"
    },
    "tags": []
   },
   "outputs": [
    {
     "name": "stdout",
     "output_type": "stream",
     "text": [
      "/kaggle/input/house-prices-advanced-regression-techniques/sample_submission.csv\n",
      "/kaggle/input/house-prices-advanced-regression-techniques/data_description.txt\n",
      "/kaggle/input/house-prices-advanced-regression-techniques/train.csv\n",
      "/kaggle/input/house-prices-advanced-regression-techniques/test.csv\n"
     ]
    }
   ],
   "source": [
    "# This Python 3 environment comes with many helpful analytics libraries installed\n",
    "# It is defined by the kaggle/python Docker image: https://github.com/kaggle/docker-python\n",
    "# For example, here's several helpful packages to load\n",
    "\n",
    "import numpy as np # linear algebra\n",
    "import pandas as pd # data processing, CSV file I/O (e.g. pd.read_csv)\n",
    "from scipy import stats\n",
    "\n",
    "# Input data files are available in the read-only \"../input/\" directory\n",
    "# For example, running this (by clicking run or pressing Shift+Enter) will list all files under the input directory\n",
    "\n",
    "import os\n",
    "for dirname, _, filenames in os.walk('/kaggle/input'):\n",
    "    for filename in filenames:\n",
    "        print(os.path.join(dirname, filename))\n",
    "\n",
    "# You can write up to 20GB to the current directory (/kaggle/working/) that gets preserved as output when you create a version using \"Save & Run All\" \n",
    "# You can also write temporary files to /kaggle/temp/, but they won't be saved outside of the current session"
   ]
  },
  {
   "cell_type": "markdown",
   "id": "1121eddd",
   "metadata": {
    "papermill": {
     "duration": 0.014854,
     "end_time": "2022-11-15T13:16:30.984579",
     "exception": false,
     "start_time": "2022-11-15T13:16:30.969725",
     "status": "completed"
    },
    "tags": []
   },
   "source": [
    "# Getting Dataframes"
   ]
  },
  {
   "cell_type": "code",
   "execution_count": 2,
   "id": "6045a5b9",
   "metadata": {
    "execution": {
     "iopub.execute_input": "2022-11-15T13:16:31.018590Z",
     "iopub.status.busy": "2022-11-15T13:16:31.017585Z",
     "iopub.status.idle": "2022-11-15T13:16:31.316294Z",
     "shell.execute_reply": "2022-11-15T13:16:31.315243Z"
    },
    "papermill": {
     "duration": 0.318942,
     "end_time": "2022-11-15T13:16:31.318889",
     "exception": false,
     "start_time": "2022-11-15T13:16:30.999947",
     "status": "completed"
    },
    "tags": []
   },
   "outputs": [
    {
     "data": {
      "text/html": [
       "<div>\n",
       "<style scoped>\n",
       "    .dataframe tbody tr th:only-of-type {\n",
       "        vertical-align: middle;\n",
       "    }\n",
       "\n",
       "    .dataframe tbody tr th {\n",
       "        vertical-align: top;\n",
       "    }\n",
       "\n",
       "    .dataframe thead th {\n",
       "        text-align: right;\n",
       "    }\n",
       "</style>\n",
       "<table border=\"1\" class=\"dataframe\">\n",
       "  <thead>\n",
       "    <tr style=\"text-align: right;\">\n",
       "      <th></th>\n",
       "      <th>Id</th>\n",
       "      <th>MSSubClass</th>\n",
       "      <th>MSZoning</th>\n",
       "      <th>LotFrontage</th>\n",
       "      <th>LotArea</th>\n",
       "      <th>Street</th>\n",
       "      <th>Alley</th>\n",
       "      <th>LotShape</th>\n",
       "      <th>LandContour</th>\n",
       "      <th>Utilities</th>\n",
       "      <th>...</th>\n",
       "      <th>PoolArea</th>\n",
       "      <th>PoolQC</th>\n",
       "      <th>Fence</th>\n",
       "      <th>MiscFeature</th>\n",
       "      <th>MiscVal</th>\n",
       "      <th>MoSold</th>\n",
       "      <th>YrSold</th>\n",
       "      <th>SaleType</th>\n",
       "      <th>SaleCondition</th>\n",
       "      <th>SalePrice</th>\n",
       "    </tr>\n",
       "  </thead>\n",
       "  <tbody>\n",
       "    <tr>\n",
       "      <th>0</th>\n",
       "      <td>1</td>\n",
       "      <td>60</td>\n",
       "      <td>RL</td>\n",
       "      <td>65.0</td>\n",
       "      <td>8450</td>\n",
       "      <td>Pave</td>\n",
       "      <td>NaN</td>\n",
       "      <td>Reg</td>\n",
       "      <td>Lvl</td>\n",
       "      <td>AllPub</td>\n",
       "      <td>...</td>\n",
       "      <td>0</td>\n",
       "      <td>NaN</td>\n",
       "      <td>NaN</td>\n",
       "      <td>NaN</td>\n",
       "      <td>0</td>\n",
       "      <td>2</td>\n",
       "      <td>2008</td>\n",
       "      <td>WD</td>\n",
       "      <td>Normal</td>\n",
       "      <td>208500</td>\n",
       "    </tr>\n",
       "    <tr>\n",
       "      <th>1</th>\n",
       "      <td>2</td>\n",
       "      <td>20</td>\n",
       "      <td>RL</td>\n",
       "      <td>80.0</td>\n",
       "      <td>9600</td>\n",
       "      <td>Pave</td>\n",
       "      <td>NaN</td>\n",
       "      <td>Reg</td>\n",
       "      <td>Lvl</td>\n",
       "      <td>AllPub</td>\n",
       "      <td>...</td>\n",
       "      <td>0</td>\n",
       "      <td>NaN</td>\n",
       "      <td>NaN</td>\n",
       "      <td>NaN</td>\n",
       "      <td>0</td>\n",
       "      <td>5</td>\n",
       "      <td>2007</td>\n",
       "      <td>WD</td>\n",
       "      <td>Normal</td>\n",
       "      <td>181500</td>\n",
       "    </tr>\n",
       "    <tr>\n",
       "      <th>2</th>\n",
       "      <td>3</td>\n",
       "      <td>60</td>\n",
       "      <td>RL</td>\n",
       "      <td>68.0</td>\n",
       "      <td>11250</td>\n",
       "      <td>Pave</td>\n",
       "      <td>NaN</td>\n",
       "      <td>IR1</td>\n",
       "      <td>Lvl</td>\n",
       "      <td>AllPub</td>\n",
       "      <td>...</td>\n",
       "      <td>0</td>\n",
       "      <td>NaN</td>\n",
       "      <td>NaN</td>\n",
       "      <td>NaN</td>\n",
       "      <td>0</td>\n",
       "      <td>9</td>\n",
       "      <td>2008</td>\n",
       "      <td>WD</td>\n",
       "      <td>Normal</td>\n",
       "      <td>223500</td>\n",
       "    </tr>\n",
       "    <tr>\n",
       "      <th>3</th>\n",
       "      <td>4</td>\n",
       "      <td>70</td>\n",
       "      <td>RL</td>\n",
       "      <td>60.0</td>\n",
       "      <td>9550</td>\n",
       "      <td>Pave</td>\n",
       "      <td>NaN</td>\n",
       "      <td>IR1</td>\n",
       "      <td>Lvl</td>\n",
       "      <td>AllPub</td>\n",
       "      <td>...</td>\n",
       "      <td>0</td>\n",
       "      <td>NaN</td>\n",
       "      <td>NaN</td>\n",
       "      <td>NaN</td>\n",
       "      <td>0</td>\n",
       "      <td>2</td>\n",
       "      <td>2006</td>\n",
       "      <td>WD</td>\n",
       "      <td>Abnorml</td>\n",
       "      <td>140000</td>\n",
       "    </tr>\n",
       "    <tr>\n",
       "      <th>4</th>\n",
       "      <td>5</td>\n",
       "      <td>60</td>\n",
       "      <td>RL</td>\n",
       "      <td>84.0</td>\n",
       "      <td>14260</td>\n",
       "      <td>Pave</td>\n",
       "      <td>NaN</td>\n",
       "      <td>IR1</td>\n",
       "      <td>Lvl</td>\n",
       "      <td>AllPub</td>\n",
       "      <td>...</td>\n",
       "      <td>0</td>\n",
       "      <td>NaN</td>\n",
       "      <td>NaN</td>\n",
       "      <td>NaN</td>\n",
       "      <td>0</td>\n",
       "      <td>12</td>\n",
       "      <td>2008</td>\n",
       "      <td>WD</td>\n",
       "      <td>Normal</td>\n",
       "      <td>250000</td>\n",
       "    </tr>\n",
       "  </tbody>\n",
       "</table>\n",
       "<p>5 rows × 81 columns</p>\n",
       "</div>"
      ],
      "text/plain": [
       "   Id  MSSubClass MSZoning  LotFrontage  LotArea Street Alley LotShape  \\\n",
       "0   1          60       RL         65.0     8450   Pave   NaN      Reg   \n",
       "1   2          20       RL         80.0     9600   Pave   NaN      Reg   \n",
       "2   3          60       RL         68.0    11250   Pave   NaN      IR1   \n",
       "3   4          70       RL         60.0     9550   Pave   NaN      IR1   \n",
       "4   5          60       RL         84.0    14260   Pave   NaN      IR1   \n",
       "\n",
       "  LandContour Utilities  ... PoolArea PoolQC Fence MiscFeature MiscVal MoSold  \\\n",
       "0         Lvl    AllPub  ...        0    NaN   NaN         NaN       0      2   \n",
       "1         Lvl    AllPub  ...        0    NaN   NaN         NaN       0      5   \n",
       "2         Lvl    AllPub  ...        0    NaN   NaN         NaN       0      9   \n",
       "3         Lvl    AllPub  ...        0    NaN   NaN         NaN       0      2   \n",
       "4         Lvl    AllPub  ...        0    NaN   NaN         NaN       0     12   \n",
       "\n",
       "  YrSold  SaleType  SaleCondition  SalePrice  \n",
       "0   2008        WD         Normal     208500  \n",
       "1   2007        WD         Normal     181500  \n",
       "2   2008        WD         Normal     223500  \n",
       "3   2006        WD        Abnorml     140000  \n",
       "4   2008        WD         Normal     250000  \n",
       "\n",
       "[5 rows x 81 columns]"
      ]
     },
     "execution_count": 2,
     "metadata": {},
     "output_type": "execute_result"
    }
   ],
   "source": [
    "master_data = pd.read_csv('/kaggle/input/house-prices-advanced-regression-techniques/train.csv')\n",
    "data = master_data\n",
    "data.head()"
   ]
  },
  {
   "cell_type": "code",
   "execution_count": 3,
   "id": "1917349f",
   "metadata": {
    "execution": {
     "iopub.execute_input": "2022-11-15T13:16:31.354350Z",
     "iopub.status.busy": "2022-11-15T13:16:31.353379Z",
     "iopub.status.idle": "2022-11-15T13:16:31.420550Z",
     "shell.execute_reply": "2022-11-15T13:16:31.419070Z"
    },
    "papermill": {
     "duration": 0.088253,
     "end_time": "2022-11-15T13:16:31.423469",
     "exception": false,
     "start_time": "2022-11-15T13:16:31.335216",
     "status": "completed"
    },
    "tags": []
   },
   "outputs": [
    {
     "data": {
      "text/html": [
       "<div>\n",
       "<style scoped>\n",
       "    .dataframe tbody tr th:only-of-type {\n",
       "        vertical-align: middle;\n",
       "    }\n",
       "\n",
       "    .dataframe tbody tr th {\n",
       "        vertical-align: top;\n",
       "    }\n",
       "\n",
       "    .dataframe thead th {\n",
       "        text-align: right;\n",
       "    }\n",
       "</style>\n",
       "<table border=\"1\" class=\"dataframe\">\n",
       "  <thead>\n",
       "    <tr style=\"text-align: right;\">\n",
       "      <th></th>\n",
       "      <th>Id</th>\n",
       "      <th>MSSubClass</th>\n",
       "      <th>MSZoning</th>\n",
       "      <th>LotFrontage</th>\n",
       "      <th>LotArea</th>\n",
       "      <th>Street</th>\n",
       "      <th>Alley</th>\n",
       "      <th>LotShape</th>\n",
       "      <th>LandContour</th>\n",
       "      <th>Utilities</th>\n",
       "      <th>...</th>\n",
       "      <th>ScreenPorch</th>\n",
       "      <th>PoolArea</th>\n",
       "      <th>PoolQC</th>\n",
       "      <th>Fence</th>\n",
       "      <th>MiscFeature</th>\n",
       "      <th>MiscVal</th>\n",
       "      <th>MoSold</th>\n",
       "      <th>YrSold</th>\n",
       "      <th>SaleType</th>\n",
       "      <th>SaleCondition</th>\n",
       "    </tr>\n",
       "  </thead>\n",
       "  <tbody>\n",
       "    <tr>\n",
       "      <th>0</th>\n",
       "      <td>1461</td>\n",
       "      <td>20</td>\n",
       "      <td>RH</td>\n",
       "      <td>80.0</td>\n",
       "      <td>11622</td>\n",
       "      <td>Pave</td>\n",
       "      <td>NaN</td>\n",
       "      <td>Reg</td>\n",
       "      <td>Lvl</td>\n",
       "      <td>AllPub</td>\n",
       "      <td>...</td>\n",
       "      <td>120</td>\n",
       "      <td>0</td>\n",
       "      <td>NaN</td>\n",
       "      <td>MnPrv</td>\n",
       "      <td>NaN</td>\n",
       "      <td>0</td>\n",
       "      <td>6</td>\n",
       "      <td>2010</td>\n",
       "      <td>WD</td>\n",
       "      <td>Normal</td>\n",
       "    </tr>\n",
       "    <tr>\n",
       "      <th>1</th>\n",
       "      <td>1462</td>\n",
       "      <td>20</td>\n",
       "      <td>RL</td>\n",
       "      <td>81.0</td>\n",
       "      <td>14267</td>\n",
       "      <td>Pave</td>\n",
       "      <td>NaN</td>\n",
       "      <td>IR1</td>\n",
       "      <td>Lvl</td>\n",
       "      <td>AllPub</td>\n",
       "      <td>...</td>\n",
       "      <td>0</td>\n",
       "      <td>0</td>\n",
       "      <td>NaN</td>\n",
       "      <td>NaN</td>\n",
       "      <td>Gar2</td>\n",
       "      <td>12500</td>\n",
       "      <td>6</td>\n",
       "      <td>2010</td>\n",
       "      <td>WD</td>\n",
       "      <td>Normal</td>\n",
       "    </tr>\n",
       "    <tr>\n",
       "      <th>2</th>\n",
       "      <td>1463</td>\n",
       "      <td>60</td>\n",
       "      <td>RL</td>\n",
       "      <td>74.0</td>\n",
       "      <td>13830</td>\n",
       "      <td>Pave</td>\n",
       "      <td>NaN</td>\n",
       "      <td>IR1</td>\n",
       "      <td>Lvl</td>\n",
       "      <td>AllPub</td>\n",
       "      <td>...</td>\n",
       "      <td>0</td>\n",
       "      <td>0</td>\n",
       "      <td>NaN</td>\n",
       "      <td>MnPrv</td>\n",
       "      <td>NaN</td>\n",
       "      <td>0</td>\n",
       "      <td>3</td>\n",
       "      <td>2010</td>\n",
       "      <td>WD</td>\n",
       "      <td>Normal</td>\n",
       "    </tr>\n",
       "    <tr>\n",
       "      <th>3</th>\n",
       "      <td>1464</td>\n",
       "      <td>60</td>\n",
       "      <td>RL</td>\n",
       "      <td>78.0</td>\n",
       "      <td>9978</td>\n",
       "      <td>Pave</td>\n",
       "      <td>NaN</td>\n",
       "      <td>IR1</td>\n",
       "      <td>Lvl</td>\n",
       "      <td>AllPub</td>\n",
       "      <td>...</td>\n",
       "      <td>0</td>\n",
       "      <td>0</td>\n",
       "      <td>NaN</td>\n",
       "      <td>NaN</td>\n",
       "      <td>NaN</td>\n",
       "      <td>0</td>\n",
       "      <td>6</td>\n",
       "      <td>2010</td>\n",
       "      <td>WD</td>\n",
       "      <td>Normal</td>\n",
       "    </tr>\n",
       "    <tr>\n",
       "      <th>4</th>\n",
       "      <td>1465</td>\n",
       "      <td>120</td>\n",
       "      <td>RL</td>\n",
       "      <td>43.0</td>\n",
       "      <td>5005</td>\n",
       "      <td>Pave</td>\n",
       "      <td>NaN</td>\n",
       "      <td>IR1</td>\n",
       "      <td>HLS</td>\n",
       "      <td>AllPub</td>\n",
       "      <td>...</td>\n",
       "      <td>144</td>\n",
       "      <td>0</td>\n",
       "      <td>NaN</td>\n",
       "      <td>NaN</td>\n",
       "      <td>NaN</td>\n",
       "      <td>0</td>\n",
       "      <td>1</td>\n",
       "      <td>2010</td>\n",
       "      <td>WD</td>\n",
       "      <td>Normal</td>\n",
       "    </tr>\n",
       "  </tbody>\n",
       "</table>\n",
       "<p>5 rows × 80 columns</p>\n",
       "</div>"
      ],
      "text/plain": [
       "     Id  MSSubClass MSZoning  LotFrontage  LotArea Street Alley LotShape  \\\n",
       "0  1461          20       RH         80.0    11622   Pave   NaN      Reg   \n",
       "1  1462          20       RL         81.0    14267   Pave   NaN      IR1   \n",
       "2  1463          60       RL         74.0    13830   Pave   NaN      IR1   \n",
       "3  1464          60       RL         78.0     9978   Pave   NaN      IR1   \n",
       "4  1465         120       RL         43.0     5005   Pave   NaN      IR1   \n",
       "\n",
       "  LandContour Utilities  ... ScreenPorch PoolArea PoolQC  Fence MiscFeature  \\\n",
       "0         Lvl    AllPub  ...         120        0    NaN  MnPrv         NaN   \n",
       "1         Lvl    AllPub  ...           0        0    NaN    NaN        Gar2   \n",
       "2         Lvl    AllPub  ...           0        0    NaN  MnPrv         NaN   \n",
       "3         Lvl    AllPub  ...           0        0    NaN    NaN         NaN   \n",
       "4         HLS    AllPub  ...         144        0    NaN    NaN         NaN   \n",
       "\n",
       "  MiscVal MoSold  YrSold  SaleType  SaleCondition  \n",
       "0       0      6    2010        WD         Normal  \n",
       "1   12500      6    2010        WD         Normal  \n",
       "2       0      3    2010        WD         Normal  \n",
       "3       0      6    2010        WD         Normal  \n",
       "4       0      1    2010        WD         Normal  \n",
       "\n",
       "[5 rows x 80 columns]"
      ]
     },
     "execution_count": 3,
     "metadata": {},
     "output_type": "execute_result"
    }
   ],
   "source": [
    "master_submit = pd.read_csv('/kaggle/input/house-prices-advanced-regression-techniques/test.csv')\n",
    "submit = master_submit\n",
    "submit.head()"
   ]
  },
  {
   "cell_type": "markdown",
   "id": "2173a896",
   "metadata": {
    "papermill": {
     "duration": 0.015453,
     "end_time": "2022-11-15T13:16:31.454971",
     "exception": false,
     "start_time": "2022-11-15T13:16:31.439518",
     "status": "completed"
    },
    "tags": []
   },
   "source": [
    "### Data Wrangling"
   ]
  },
  {
   "cell_type": "code",
   "execution_count": 4,
   "id": "c2e399bd",
   "metadata": {
    "execution": {
     "iopub.execute_input": "2022-11-15T13:16:31.489875Z",
     "iopub.status.busy": "2022-11-15T13:16:31.489306Z",
     "iopub.status.idle": "2022-11-15T13:16:31.521157Z",
     "shell.execute_reply": "2022-11-15T13:16:31.519800Z"
    },
    "papermill": {
     "duration": 0.053872,
     "end_time": "2022-11-15T13:16:31.524794",
     "exception": false,
     "start_time": "2022-11-15T13:16:31.470922",
     "status": "completed"
    },
    "tags": []
   },
   "outputs": [
    {
     "name": "stdout",
     "output_type": "stream",
     "text": [
      "<class 'pandas.core.frame.DataFrame'>\n",
      "RangeIndex: 1460 entries, 0 to 1459\n",
      "Columns: 81 entries, Id to SalePrice\n",
      "dtypes: float64(3), int64(35), object(43)\n",
      "memory usage: 924.0+ KB\n"
     ]
    }
   ],
   "source": [
    "#pd.set_option('display.max_rows',5)\n",
    "data.info(verbose=False)"
   ]
  },
  {
   "cell_type": "code",
   "execution_count": 5,
   "id": "013ac8c7",
   "metadata": {
    "execution": {
     "iopub.execute_input": "2022-11-15T13:16:31.560405Z",
     "iopub.status.busy": "2022-11-15T13:16:31.559798Z",
     "iopub.status.idle": "2022-11-15T13:16:31.569581Z",
     "shell.execute_reply": "2022-11-15T13:16:31.567844Z"
    },
    "papermill": {
     "duration": 0.031077,
     "end_time": "2022-11-15T13:16:31.572345",
     "exception": false,
     "start_time": "2022-11-15T13:16:31.541268",
     "status": "completed"
    },
    "tags": []
   },
   "outputs": [
    {
     "data": {
      "text/plain": [
       "(1460, 81)"
      ]
     },
     "execution_count": 5,
     "metadata": {},
     "output_type": "execute_result"
    }
   ],
   "source": [
    "data.shape"
   ]
  },
  {
   "cell_type": "code",
   "execution_count": 6,
   "id": "fdc34fde",
   "metadata": {
    "execution": {
     "iopub.execute_input": "2022-11-15T13:16:31.608297Z",
     "iopub.status.busy": "2022-11-15T13:16:31.606747Z",
     "iopub.status.idle": "2022-11-15T13:16:31.616020Z",
     "shell.execute_reply": "2022-11-15T13:16:31.614614Z"
    },
    "papermill": {
     "duration": 0.030238,
     "end_time": "2022-11-15T13:16:31.618832",
     "exception": false,
     "start_time": "2022-11-15T13:16:31.588594",
     "status": "completed"
    },
    "tags": []
   },
   "outputs": [
    {
     "data": {
      "text/plain": [
       "(1459, 80)"
      ]
     },
     "execution_count": 6,
     "metadata": {},
     "output_type": "execute_result"
    }
   ],
   "source": [
    "submit.shape"
   ]
  },
  {
   "cell_type": "code",
   "execution_count": 7,
   "id": "d1838111",
   "metadata": {
    "execution": {
     "iopub.execute_input": "2022-11-15T13:16:31.655204Z",
     "iopub.status.busy": "2022-11-15T13:16:31.654241Z",
     "iopub.status.idle": "2022-11-15T13:16:31.659659Z",
     "shell.execute_reply": "2022-11-15T13:16:31.658549Z"
    },
    "papermill": {
     "duration": 0.026655,
     "end_time": "2022-11-15T13:16:31.662606",
     "exception": false,
     "start_time": "2022-11-15T13:16:31.635951",
     "status": "completed"
    },
    "tags": []
   },
   "outputs": [],
   "source": [
    "#data.info(verbose=True)"
   ]
  },
  {
   "cell_type": "code",
   "execution_count": 8,
   "id": "e78ddb0d",
   "metadata": {
    "execution": {
     "iopub.execute_input": "2022-11-15T13:16:31.698656Z",
     "iopub.status.busy": "2022-11-15T13:16:31.697737Z",
     "iopub.status.idle": "2022-11-15T13:16:31.702299Z",
     "shell.execute_reply": "2022-11-15T13:16:31.701411Z"
    },
    "papermill": {
     "duration": 0.02559,
     "end_time": "2022-11-15T13:16:31.704683",
     "exception": false,
     "start_time": "2022-11-15T13:16:31.679093",
     "status": "completed"
    },
    "tags": []
   },
   "outputs": [],
   "source": [
    "#pd.set_option('display.max_rows',None)\n",
    "#data.isna().sum()"
   ]
  },
  {
   "cell_type": "code",
   "execution_count": 9,
   "id": "684311e6",
   "metadata": {
    "execution": {
     "iopub.execute_input": "2022-11-15T13:16:31.740806Z",
     "iopub.status.busy": "2022-11-15T13:16:31.739884Z",
     "iopub.status.idle": "2022-11-15T13:16:31.744978Z",
     "shell.execute_reply": "2022-11-15T13:16:31.743912Z"
    },
    "papermill": {
     "duration": 0.026542,
     "end_time": "2022-11-15T13:16:31.747645",
     "exception": false,
     "start_time": "2022-11-15T13:16:31.721103",
     "status": "completed"
    },
    "tags": []
   },
   "outputs": [],
   "source": [
    "#data['MiscVal'].unique()"
   ]
  },
  {
   "cell_type": "code",
   "execution_count": 10,
   "id": "ad352a3b",
   "metadata": {
    "execution": {
     "iopub.execute_input": "2022-11-15T13:16:31.783296Z",
     "iopub.status.busy": "2022-11-15T13:16:31.782419Z",
     "iopub.status.idle": "2022-11-15T13:16:31.787048Z",
     "shell.execute_reply": "2022-11-15T13:16:31.786185Z"
    },
    "papermill": {
     "duration": 0.025442,
     "end_time": "2022-11-15T13:16:31.789397",
     "exception": false,
     "start_time": "2022-11-15T13:16:31.763955",
     "status": "completed"
    },
    "tags": []
   },
   "outputs": [],
   "source": [
    "#data[['MiscFeature','MiscVal']]"
   ]
  },
  {
   "cell_type": "code",
   "execution_count": 11,
   "id": "b35d5507",
   "metadata": {
    "execution": {
     "iopub.execute_input": "2022-11-15T13:16:31.825573Z",
     "iopub.status.busy": "2022-11-15T13:16:31.824615Z",
     "iopub.status.idle": "2022-11-15T13:16:31.835895Z",
     "shell.execute_reply": "2022-11-15T13:16:31.834676Z"
    },
    "papermill": {
     "duration": 0.03354,
     "end_time": "2022-11-15T13:16:31.839192",
     "exception": false,
     "start_time": "2022-11-15T13:16:31.805652",
     "status": "completed"
    },
    "tags": []
   },
   "outputs": [],
   "source": [
    "data = data.drop(['MiscFeature'], axis=1)\n",
    "submit = submit.drop(['MiscFeature'], axis=1)"
   ]
  },
  {
   "cell_type": "code",
   "execution_count": 12,
   "id": "ec45516e",
   "metadata": {
    "execution": {
     "iopub.execute_input": "2022-11-15T13:16:31.875660Z",
     "iopub.status.busy": "2022-11-15T13:16:31.874826Z",
     "iopub.status.idle": "2022-11-15T13:16:31.881017Z",
     "shell.execute_reply": "2022-11-15T13:16:31.879704Z"
    },
    "papermill": {
     "duration": 0.028411,
     "end_time": "2022-11-15T13:16:31.884229",
     "exception": false,
     "start_time": "2022-11-15T13:16:31.855818",
     "status": "completed"
    },
    "tags": []
   },
   "outputs": [
    {
     "name": "stdout",
     "output_type": "stream",
     "text": [
      "shape of given data (1460, 80)\n",
      "shape of submit data (1459, 79)\n"
     ]
    }
   ],
   "source": [
    "print(\"shape of given data\", data.shape)\n",
    "print(\"shape of submit data\", submit.shape)"
   ]
  },
  {
   "cell_type": "markdown",
   "id": "173fb1d8",
   "metadata": {
    "papermill": {
     "duration": 0.01591,
     "end_time": "2022-11-15T13:16:31.917262",
     "exception": false,
     "start_time": "2022-11-15T13:16:31.901352",
     "status": "completed"
    },
    "tags": []
   },
   "source": [
    "# Feature Engineering"
   ]
  },
  {
   "cell_type": "markdown",
   "id": "d6b0309f",
   "metadata": {
    "papermill": {
     "duration": 0.015962,
     "end_time": "2022-11-15T13:16:31.949851",
     "exception": false,
     "start_time": "2022-11-15T13:16:31.933889",
     "status": "completed"
    },
    "tags": []
   },
   "source": [
    "## Separating independent and dependent variables"
   ]
  },
  {
   "cell_type": "code",
   "execution_count": 13,
   "id": "756d3e4d",
   "metadata": {
    "execution": {
     "iopub.execute_input": "2022-11-15T13:16:31.985519Z",
     "iopub.status.busy": "2022-11-15T13:16:31.984669Z",
     "iopub.status.idle": "2022-11-15T13:16:31.993577Z",
     "shell.execute_reply": "2022-11-15T13:16:31.992302Z"
    },
    "papermill": {
     "duration": 0.030642,
     "end_time": "2022-11-15T13:16:31.996793",
     "exception": false,
     "start_time": "2022-11-15T13:16:31.966151",
     "status": "completed"
    },
    "tags": []
   },
   "outputs": [],
   "source": [
    "X_data=data\n",
    "X_data=X_data.drop(['SalePrice'], axis=1)\n",
    "X_submit=submit\n",
    "#X_data.head()"
   ]
  },
  {
   "cell_type": "code",
   "execution_count": 14,
   "id": "dde855f0",
   "metadata": {
    "execution": {
     "iopub.execute_input": "2022-11-15T13:16:32.032370Z",
     "iopub.status.busy": "2022-11-15T13:16:32.031829Z",
     "iopub.status.idle": "2022-11-15T13:16:32.041394Z",
     "shell.execute_reply": "2022-11-15T13:16:32.040046Z"
    },
    "papermill": {
     "duration": 0.030646,
     "end_time": "2022-11-15T13:16:32.044043",
     "exception": false,
     "start_time": "2022-11-15T13:16:32.013397",
     "status": "completed"
    },
    "tags": []
   },
   "outputs": [
    {
     "data": {
      "text/plain": [
       "0    208500\n",
       "1    181500\n",
       "2    223500\n",
       "3    140000\n",
       "4    250000\n",
       "Name: SalePrice, dtype: int64"
      ]
     },
     "execution_count": 14,
     "metadata": {},
     "output_type": "execute_result"
    }
   ],
   "source": [
    "Y_data=data['SalePrice']\n",
    "Y_data.head()"
   ]
  },
  {
   "cell_type": "markdown",
   "id": "8b1da9f9",
   "metadata": {
    "papermill": {
     "duration": 0.0162,
     "end_time": "2022-11-15T13:16:32.077066",
     "exception": false,
     "start_time": "2022-11-15T13:16:32.060866",
     "status": "completed"
    },
    "tags": []
   },
   "source": [
    "## One hot encoding"
   ]
  },
  {
   "cell_type": "code",
   "execution_count": 15,
   "id": "f3d21b51",
   "metadata": {
    "execution": {
     "iopub.execute_input": "2022-11-15T13:16:32.113954Z",
     "iopub.status.busy": "2022-11-15T13:16:32.112453Z",
     "iopub.status.idle": "2022-11-15T13:16:32.198041Z",
     "shell.execute_reply": "2022-11-15T13:16:32.195818Z"
    },
    "papermill": {
     "duration": 0.107591,
     "end_time": "2022-11-15T13:16:32.201565",
     "exception": false,
     "start_time": "2022-11-15T13:16:32.093974",
     "status": "completed"
    },
    "tags": []
   },
   "outputs": [
    {
     "name": "stdout",
     "output_type": "stream",
     "text": [
      "shape before one hot encoding (1460, 79)\n",
      "shape after one hot encoding (1460, 285)\n"
     ]
    },
    {
     "data": {
      "text/html": [
       "<div>\n",
       "<style scoped>\n",
       "    .dataframe tbody tr th:only-of-type {\n",
       "        vertical-align: middle;\n",
       "    }\n",
       "\n",
       "    .dataframe tbody tr th {\n",
       "        vertical-align: top;\n",
       "    }\n",
       "\n",
       "    .dataframe thead th {\n",
       "        text-align: right;\n",
       "    }\n",
       "</style>\n",
       "<table border=\"1\" class=\"dataframe\">\n",
       "  <thead>\n",
       "    <tr style=\"text-align: right;\">\n",
       "      <th></th>\n",
       "      <th>Id</th>\n",
       "      <th>MSSubClass</th>\n",
       "      <th>LotFrontage</th>\n",
       "      <th>LotArea</th>\n",
       "      <th>OverallQual</th>\n",
       "      <th>OverallCond</th>\n",
       "      <th>YearBuilt</th>\n",
       "      <th>YearRemodAdd</th>\n",
       "      <th>MasVnrArea</th>\n",
       "      <th>BsmtFinSF1</th>\n",
       "      <th>...</th>\n",
       "      <th>SaleType_ConLw</th>\n",
       "      <th>SaleType_New</th>\n",
       "      <th>SaleType_Oth</th>\n",
       "      <th>SaleType_WD</th>\n",
       "      <th>SaleCondition_Abnorml</th>\n",
       "      <th>SaleCondition_AdjLand</th>\n",
       "      <th>SaleCondition_Alloca</th>\n",
       "      <th>SaleCondition_Family</th>\n",
       "      <th>SaleCondition_Normal</th>\n",
       "      <th>SaleCondition_Partial</th>\n",
       "    </tr>\n",
       "  </thead>\n",
       "  <tbody>\n",
       "    <tr>\n",
       "      <th>0</th>\n",
       "      <td>1</td>\n",
       "      <td>60</td>\n",
       "      <td>65.0</td>\n",
       "      <td>8450</td>\n",
       "      <td>7</td>\n",
       "      <td>5</td>\n",
       "      <td>2003</td>\n",
       "      <td>2003</td>\n",
       "      <td>196.0</td>\n",
       "      <td>706</td>\n",
       "      <td>...</td>\n",
       "      <td>0</td>\n",
       "      <td>0</td>\n",
       "      <td>0</td>\n",
       "      <td>1</td>\n",
       "      <td>0</td>\n",
       "      <td>0</td>\n",
       "      <td>0</td>\n",
       "      <td>0</td>\n",
       "      <td>1</td>\n",
       "      <td>0</td>\n",
       "    </tr>\n",
       "    <tr>\n",
       "      <th>1</th>\n",
       "      <td>2</td>\n",
       "      <td>20</td>\n",
       "      <td>80.0</td>\n",
       "      <td>9600</td>\n",
       "      <td>6</td>\n",
       "      <td>8</td>\n",
       "      <td>1976</td>\n",
       "      <td>1976</td>\n",
       "      <td>0.0</td>\n",
       "      <td>978</td>\n",
       "      <td>...</td>\n",
       "      <td>0</td>\n",
       "      <td>0</td>\n",
       "      <td>0</td>\n",
       "      <td>1</td>\n",
       "      <td>0</td>\n",
       "      <td>0</td>\n",
       "      <td>0</td>\n",
       "      <td>0</td>\n",
       "      <td>1</td>\n",
       "      <td>0</td>\n",
       "    </tr>\n",
       "    <tr>\n",
       "      <th>2</th>\n",
       "      <td>3</td>\n",
       "      <td>60</td>\n",
       "      <td>68.0</td>\n",
       "      <td>11250</td>\n",
       "      <td>7</td>\n",
       "      <td>5</td>\n",
       "      <td>2001</td>\n",
       "      <td>2002</td>\n",
       "      <td>162.0</td>\n",
       "      <td>486</td>\n",
       "      <td>...</td>\n",
       "      <td>0</td>\n",
       "      <td>0</td>\n",
       "      <td>0</td>\n",
       "      <td>1</td>\n",
       "      <td>0</td>\n",
       "      <td>0</td>\n",
       "      <td>0</td>\n",
       "      <td>0</td>\n",
       "      <td>1</td>\n",
       "      <td>0</td>\n",
       "    </tr>\n",
       "    <tr>\n",
       "      <th>3</th>\n",
       "      <td>4</td>\n",
       "      <td>70</td>\n",
       "      <td>60.0</td>\n",
       "      <td>9550</td>\n",
       "      <td>7</td>\n",
       "      <td>5</td>\n",
       "      <td>1915</td>\n",
       "      <td>1970</td>\n",
       "      <td>0.0</td>\n",
       "      <td>216</td>\n",
       "      <td>...</td>\n",
       "      <td>0</td>\n",
       "      <td>0</td>\n",
       "      <td>0</td>\n",
       "      <td>1</td>\n",
       "      <td>1</td>\n",
       "      <td>0</td>\n",
       "      <td>0</td>\n",
       "      <td>0</td>\n",
       "      <td>0</td>\n",
       "      <td>0</td>\n",
       "    </tr>\n",
       "    <tr>\n",
       "      <th>4</th>\n",
       "      <td>5</td>\n",
       "      <td>60</td>\n",
       "      <td>84.0</td>\n",
       "      <td>14260</td>\n",
       "      <td>8</td>\n",
       "      <td>5</td>\n",
       "      <td>2000</td>\n",
       "      <td>2000</td>\n",
       "      <td>350.0</td>\n",
       "      <td>655</td>\n",
       "      <td>...</td>\n",
       "      <td>0</td>\n",
       "      <td>0</td>\n",
       "      <td>0</td>\n",
       "      <td>1</td>\n",
       "      <td>0</td>\n",
       "      <td>0</td>\n",
       "      <td>0</td>\n",
       "      <td>0</td>\n",
       "      <td>1</td>\n",
       "      <td>0</td>\n",
       "    </tr>\n",
       "  </tbody>\n",
       "</table>\n",
       "<p>5 rows × 285 columns</p>\n",
       "</div>"
      ],
      "text/plain": [
       "   Id  MSSubClass  LotFrontage  LotArea  OverallQual  OverallCond  YearBuilt  \\\n",
       "0   1          60         65.0     8450            7            5       2003   \n",
       "1   2          20         80.0     9600            6            8       1976   \n",
       "2   3          60         68.0    11250            7            5       2001   \n",
       "3   4          70         60.0     9550            7            5       1915   \n",
       "4   5          60         84.0    14260            8            5       2000   \n",
       "\n",
       "   YearRemodAdd  MasVnrArea  BsmtFinSF1  ...  SaleType_ConLw  SaleType_New  \\\n",
       "0          2003       196.0         706  ...               0             0   \n",
       "1          1976         0.0         978  ...               0             0   \n",
       "2          2002       162.0         486  ...               0             0   \n",
       "3          1970         0.0         216  ...               0             0   \n",
       "4          2000       350.0         655  ...               0             0   \n",
       "\n",
       "   SaleType_Oth  SaleType_WD  SaleCondition_Abnorml  SaleCondition_AdjLand  \\\n",
       "0             0            1                      0                      0   \n",
       "1             0            1                      0                      0   \n",
       "2             0            1                      0                      0   \n",
       "3             0            1                      1                      0   \n",
       "4             0            1                      0                      0   \n",
       "\n",
       "   SaleCondition_Alloca  SaleCondition_Family  SaleCondition_Normal  \\\n",
       "0                     0                     0                     1   \n",
       "1                     0                     0                     1   \n",
       "2                     0                     0                     1   \n",
       "3                     0                     0                     0   \n",
       "4                     0                     0                     1   \n",
       "\n",
       "   SaleCondition_Partial  \n",
       "0                      0  \n",
       "1                      0  \n",
       "2                      0  \n",
       "3                      0  \n",
       "4                      0  \n",
       "\n",
       "[5 rows x 285 columns]"
      ]
     },
     "execution_count": 15,
     "metadata": {},
     "output_type": "execute_result"
    }
   ],
   "source": [
    "print(\"shape before one hot encoding\", X_data.shape)\n",
    "X_data=pd.get_dummies(X_data)\n",
    "\n",
    "dummies_frame = pd.get_dummies(X_data)\n",
    "X_submit=X_submit.reindex(columns = dummies_frame.columns, fill_value=0)\n",
    "#X_test=pd.get_dummies(X_test)\n",
    "\n",
    "print(\"shape after one hot encoding\", X_data.shape)\n",
    "X_data.head()"
   ]
  },
  {
   "cell_type": "code",
   "execution_count": 16,
   "id": "187bd6c3",
   "metadata": {
    "execution": {
     "iopub.execute_input": "2022-11-15T13:16:32.238853Z",
     "iopub.status.busy": "2022-11-15T13:16:32.238284Z",
     "iopub.status.idle": "2022-11-15T13:16:32.261101Z",
     "shell.execute_reply": "2022-11-15T13:16:32.259436Z"
    },
    "papermill": {
     "duration": 0.045704,
     "end_time": "2022-11-15T13:16:32.264764",
     "exception": false,
     "start_time": "2022-11-15T13:16:32.219060",
     "status": "completed"
    },
    "tags": []
   },
   "outputs": [],
   "source": [
    "X_data=X_data.fillna(0)\n",
    "X_submit=X_submit.fillna(0)\n",
    "#X.isna().sum()"
   ]
  },
  {
   "cell_type": "code",
   "execution_count": 17,
   "id": "5056398a",
   "metadata": {
    "execution": {
     "iopub.execute_input": "2022-11-15T13:16:32.302958Z",
     "iopub.status.busy": "2022-11-15T13:16:32.302403Z",
     "iopub.status.idle": "2022-11-15T13:16:32.309642Z",
     "shell.execute_reply": "2022-11-15T13:16:32.308081Z"
    },
    "papermill": {
     "duration": 0.030745,
     "end_time": "2022-11-15T13:16:32.313301",
     "exception": false,
     "start_time": "2022-11-15T13:16:32.282556",
     "status": "completed"
    },
    "tags": []
   },
   "outputs": [
    {
     "name": "stdout",
     "output_type": "stream",
     "text": [
      "shape of X_data (1460, 285)\n",
      "shape of X_submit (1459, 285)\n"
     ]
    }
   ],
   "source": [
    "print(\"shape of X_data\", X_data.shape)\n",
    "print(\"shape of X_submit\", X_submit.shape)"
   ]
  },
  {
   "cell_type": "markdown",
   "id": "5184c2d7",
   "metadata": {
    "papermill": {
     "duration": 0.016846,
     "end_time": "2022-11-15T13:16:32.348774",
     "exception": false,
     "start_time": "2022-11-15T13:16:32.331928",
     "status": "completed"
    },
    "tags": []
   },
   "source": [
    "## Data Scaling"
   ]
  },
  {
   "cell_type": "code",
   "execution_count": 18,
   "id": "a8491851",
   "metadata": {
    "execution": {
     "iopub.execute_input": "2022-11-15T13:16:32.386528Z",
     "iopub.status.busy": "2022-11-15T13:16:32.385514Z",
     "iopub.status.idle": "2022-11-15T13:16:32.584993Z",
     "shell.execute_reply": "2022-11-15T13:16:32.583748Z"
    },
    "papermill": {
     "duration": 0.221881,
     "end_time": "2022-11-15T13:16:32.588000",
     "exception": false,
     "start_time": "2022-11-15T13:16:32.366119",
     "status": "completed"
    },
    "tags": []
   },
   "outputs": [
    {
     "data": {
      "text/plain": [
       "array([[-1.73086488,  0.07337496,  0.2128772 , ..., -0.11785113,\n",
       "         0.4676514 , -0.30599503],\n",
       "       [-1.7284922 , -0.87256276,  0.64574726, ..., -0.11785113,\n",
       "         0.4676514 , -0.30599503],\n",
       "       [-1.72611953,  0.07337496,  0.29945121, ..., -0.11785113,\n",
       "         0.4676514 , -0.30599503],\n",
       "       ...,\n",
       "       [ 1.72611953,  0.30985939,  0.2417352 , ..., -0.11785113,\n",
       "         0.4676514 , -0.30599503],\n",
       "       [ 1.7284922 , -0.87256276,  0.29945121, ..., -0.11785113,\n",
       "         0.4676514 , -0.30599503],\n",
       "       [ 1.73086488, -0.87256276,  0.50145724, ..., -0.11785113,\n",
       "         0.4676514 , -0.30599503]])"
      ]
     },
     "execution_count": 18,
     "metadata": {},
     "output_type": "execute_result"
    }
   ],
   "source": [
    "from sklearn.preprocessing import StandardScaler\n",
    "\n",
    "scaler = StandardScaler()\n",
    "X_scaled_data = scaler.fit_transform(X_data)\n",
    "X_scaled_submit = scaler.transform(X_submit)\n",
    "X_scaled_data"
   ]
  },
  {
   "cell_type": "code",
   "execution_count": 19,
   "id": "f520013d",
   "metadata": {
    "execution": {
     "iopub.execute_input": "2022-11-15T13:16:32.630679Z",
     "iopub.status.busy": "2022-11-15T13:16:32.629829Z",
     "iopub.status.idle": "2022-11-15T13:16:32.637686Z",
     "shell.execute_reply": "2022-11-15T13:16:32.635679Z"
    },
    "papermill": {
     "duration": 0.033687,
     "end_time": "2022-11-15T13:16:32.641385",
     "exception": false,
     "start_time": "2022-11-15T13:16:32.607698",
     "status": "completed"
    },
    "tags": []
   },
   "outputs": [
    {
     "name": "stdout",
     "output_type": "stream",
     "text": [
      "Memory size of numpy array in bytes: 3328800\n"
     ]
    }
   ],
   "source": [
    "print(\"Memory size of numpy array in bytes:\", X_scaled_data.size * X_scaled_data.itemsize)"
   ]
  },
  {
   "cell_type": "code",
   "execution_count": 20,
   "id": "c688038c",
   "metadata": {
    "execution": {
     "iopub.execute_input": "2022-11-15T13:16:32.679980Z",
     "iopub.status.busy": "2022-11-15T13:16:32.679349Z",
     "iopub.status.idle": "2022-11-15T13:16:32.688268Z",
     "shell.execute_reply": "2022-11-15T13:16:32.686654Z"
    },
    "papermill": {
     "duration": 0.031656,
     "end_time": "2022-11-15T13:16:32.691291",
     "exception": false,
     "start_time": "2022-11-15T13:16:32.659635",
     "status": "completed"
    },
    "tags": []
   },
   "outputs": [
    {
     "data": {
      "text/plain": [
       "dtype('float64')"
      ]
     },
     "execution_count": 20,
     "metadata": {},
     "output_type": "execute_result"
    }
   ],
   "source": [
    "X_scaled_data.dtype"
   ]
  },
  {
   "cell_type": "code",
   "execution_count": 21,
   "id": "8927f950",
   "metadata": {
    "execution": {
     "iopub.execute_input": "2022-11-15T13:16:32.730255Z",
     "iopub.status.busy": "2022-11-15T13:16:32.729729Z",
     "iopub.status.idle": "2022-11-15T13:16:32.738572Z",
     "shell.execute_reply": "2022-11-15T13:16:32.737104Z"
    },
    "papermill": {
     "duration": 0.03137,
     "end_time": "2022-11-15T13:16:32.741752",
     "exception": false,
     "start_time": "2022-11-15T13:16:32.710382",
     "status": "completed"
    },
    "tags": []
   },
   "outputs": [
    {
     "data": {
      "text/plain": [
       "416100"
      ]
     },
     "execution_count": 21,
     "metadata": {},
     "output_type": "execute_result"
    }
   ],
   "source": [
    "X_scaled_data.size"
   ]
  },
  {
   "cell_type": "code",
   "execution_count": 22,
   "id": "3113898f",
   "metadata": {
    "execution": {
     "iopub.execute_input": "2022-11-15T13:16:32.781046Z",
     "iopub.status.busy": "2022-11-15T13:16:32.780089Z",
     "iopub.status.idle": "2022-11-15T13:16:32.794991Z",
     "shell.execute_reply": "2022-11-15T13:16:32.793458Z"
    },
    "papermill": {
     "duration": 0.037628,
     "end_time": "2022-11-15T13:16:32.797844",
     "exception": false,
     "start_time": "2022-11-15T13:16:32.760216",
     "status": "completed"
    },
    "tags": []
   },
   "outputs": [
    {
     "name": "stdout",
     "output_type": "stream",
     "text": [
      "Memory size of numpy array in bytes: 832200\n"
     ]
    },
    {
     "data": {
      "text/plain": [
       "array([[-1.73   ,  0.07336,  0.2129 , ..., -0.11786,  0.4678 , -0.306  ],\n",
       "       [-1.729  , -0.8726 ,  0.6455 , ..., -0.11786,  0.4678 , -0.306  ],\n",
       "       [-1.727  ,  0.07336,  0.2996 , ..., -0.11786,  0.4678 , -0.306  ],\n",
       "       ...,\n",
       "       [ 1.727  ,  0.3098 ,  0.2417 , ..., -0.11786,  0.4678 , -0.306  ],\n",
       "       [ 1.729  , -0.8726 ,  0.2996 , ..., -0.11786,  0.4678 , -0.306  ],\n",
       "       [ 1.73   , -0.8726 ,  0.5015 , ..., -0.11786,  0.4678 , -0.306  ]],\n",
       "      dtype=float16)"
      ]
     },
     "execution_count": 22,
     "metadata": {},
     "output_type": "execute_result"
    }
   ],
   "source": [
    "def trunc(values, decs=0):\n",
    "    return np.trunc(values*10**decs)/(10**decs)\n",
    "\n",
    "f16=np.float16(X_scaled_data)\n",
    "#f16=trunc(f16, decs=2)\n",
    "print(\"Memory size of numpy array in bytes:\", f16.size * f16.itemsize)\n",
    "f16"
   ]
  },
  {
   "cell_type": "code",
   "execution_count": 23,
   "id": "634ea22c",
   "metadata": {
    "execution": {
     "iopub.execute_input": "2022-11-15T13:16:32.836428Z",
     "iopub.status.busy": "2022-11-15T13:16:32.835866Z",
     "iopub.status.idle": "2022-11-15T13:16:32.840758Z",
     "shell.execute_reply": "2022-11-15T13:16:32.839691Z"
    },
    "papermill": {
     "duration": 0.027144,
     "end_time": "2022-11-15T13:16:32.843195",
     "exception": false,
     "start_time": "2022-11-15T13:16:32.816051",
     "status": "completed"
    },
    "tags": []
   },
   "outputs": [],
   "source": [
    "#X_scaled_data=f16"
   ]
  },
  {
   "cell_type": "code",
   "execution_count": 24,
   "id": "e7162d2c",
   "metadata": {
    "execution": {
     "iopub.execute_input": "2022-11-15T13:16:32.882632Z",
     "iopub.status.busy": "2022-11-15T13:16:32.881526Z",
     "iopub.status.idle": "2022-11-15T13:16:32.892048Z",
     "shell.execute_reply": "2022-11-15T13:16:32.890592Z"
    },
    "papermill": {
     "duration": 0.033546,
     "end_time": "2022-11-15T13:16:32.894931",
     "exception": false,
     "start_time": "2022-11-15T13:16:32.861385",
     "status": "completed"
    },
    "tags": []
   },
   "outputs": [
    {
     "data": {
      "text/plain": [
       "False"
      ]
     },
     "execution_count": 24,
     "metadata": {},
     "output_type": "execute_result"
    }
   ],
   "source": [
    "np.any(np.isnan(X_scaled_data))"
   ]
  },
  {
   "cell_type": "markdown",
   "id": "882d8fb2",
   "metadata": {
    "papermill": {
     "duration": 0.017411,
     "end_time": "2022-11-15T13:16:32.930304",
     "exception": false,
     "start_time": "2022-11-15T13:16:32.912893",
     "status": "completed"
    },
    "tags": []
   },
   "source": [
    "## Train Test split"
   ]
  },
  {
   "cell_type": "code",
   "execution_count": 25,
   "id": "e5760fcf",
   "metadata": {
    "execution": {
     "iopub.execute_input": "2022-11-15T13:16:32.969627Z",
     "iopub.status.busy": "2022-11-15T13:16:32.968117Z",
     "iopub.status.idle": "2022-11-15T13:16:33.045054Z",
     "shell.execute_reply": "2022-11-15T13:16:33.043089Z"
    },
    "papermill": {
     "duration": 0.100109,
     "end_time": "2022-11-15T13:16:33.048616",
     "exception": false,
     "start_time": "2022-11-15T13:16:32.948507",
     "status": "completed"
    },
    "tags": []
   },
   "outputs": [
    {
     "name": "stdout",
     "output_type": "stream",
     "text": [
      "shape of training data (978, 285)\n",
      "shape of testing data (482, 285)\n"
     ]
    }
   ],
   "source": [
    "from sklearn.model_selection import train_test_split\n",
    "\n",
    "X_train, X_test, Y_train, Y_test = train_test_split(X_scaled_data, Y_data, test_size=0.33, random_state=42)\n",
    "\n",
    "print(\"shape of training data\", X_train.shape)\n",
    "print(\"shape of testing data\", X_test.shape)"
   ]
  },
  {
   "cell_type": "markdown",
   "id": "aca37428",
   "metadata": {
    "papermill": {
     "duration": 0.017971,
     "end_time": "2022-11-15T13:16:33.084830",
     "exception": false,
     "start_time": "2022-11-15T13:16:33.066859",
     "status": "completed"
    },
    "tags": []
   },
   "source": [
    "# Linear/Polynomial Regression"
   ]
  },
  {
   "cell_type": "code",
   "execution_count": 26,
   "id": "e206f67c",
   "metadata": {
    "execution": {
     "iopub.execute_input": "2022-11-15T13:16:33.124530Z",
     "iopub.status.busy": "2022-11-15T13:16:33.123064Z",
     "iopub.status.idle": "2022-11-15T13:16:46.313039Z",
     "shell.execute_reply": "2022-11-15T13:16:46.311673Z"
    },
    "papermill": {
     "duration": 13.213117,
     "end_time": "2022-11-15T13:16:46.316209",
     "exception": false,
     "start_time": "2022-11-15T13:16:33.103092",
     "status": "completed"
    },
    "tags": []
   },
   "outputs": [
    {
     "name": "stdout",
     "output_type": "stream",
     "text": [
      "iteration =  1\n",
      "Memory size of numpy array in bytes in MB: 2.237664\n",
      "iteration =  2\n",
      "Memory size of numpy array in bytes in MB: 321.104784\n",
      "[-6.737439346450269e+23, 0.8010567171150325]\n"
     ]
    },
    {
     "data": {
      "text/plain": [
       "<function matplotlib.pyplot.show(close=None, block=None)>"
      ]
     },
     "execution_count": 26,
     "metadata": {},
     "output_type": "execute_result"
    },
    {
     "data": {
      "image/png": "[encoded data removed]",
      "text/plain": [
       "<Figure size 432x288 with 1 Axes>"
      ]
     },
     "metadata": {
      "needs_background": "light"
     },
     "output_type": "display_data"
    }
   ],
   "source": [
    "from sklearn.preprocessing import PolynomialFeatures\n",
    "from sklearn.linear_model import LinearRegression\n",
    "\n",
    "errors=[]\n",
    "\n",
    "sweep = np.arange(1, 3, 1, dtype=int)\n",
    "for i in sweep:\n",
    "    print(\"iteration = \", i)\n",
    "    poly = PolynomialFeatures(degree = i)\n",
    "    \n",
    "    X_poly_train = poly.fit_transform(X_train)\n",
    "    X_poly_test = poly.transform(X_test)\n",
    "    print(\"Memory size of numpy array in bytes in MB:\", X_poly_train.size * X_poly_train.itemsize / 1000000)\n",
    "    \n",
    "    reg = LinearRegression()\n",
    "    reg.fit(X_poly_train, Y_train)\n",
    "    \n",
    "    errors.append(reg.score(X_poly_test, Y_test))\n",
    "    \n",
    "print(errors)\n",
    "\n",
    "import matplotlib.pyplot as plt\n",
    "plt.figure()\n",
    "plt.plot(sweep, errors)\n",
    "plt.xlabel(\"iteration\")\n",
    "plt.ylabel(\"R2\")\n",
    "plt.title(\"Iteration vs Error\")\n",
    "plt.show"
   ]
  },
  {
   "cell_type": "markdown",
   "id": "169ba41f",
   "metadata": {
    "papermill": {
     "duration": 0.018421,
     "end_time": "2022-11-15T13:16:46.353661",
     "exception": false,
     "start_time": "2022-11-15T13:16:46.335240",
     "status": "completed"
    },
    "tags": []
   },
   "source": [
    "## Ridge Regression"
   ]
  },
  {
   "cell_type": "code",
   "execution_count": 27,
   "id": "e9a6a870",
   "metadata": {
    "execution": {
     "iopub.execute_input": "2022-11-15T13:16:46.394771Z",
     "iopub.status.busy": "2022-11-15T13:16:46.393531Z",
     "iopub.status.idle": "2022-11-15T13:16:46.403104Z",
     "shell.execute_reply": "2022-11-15T13:16:46.401420Z"
    },
    "papermill": {
     "duration": 0.033689,
     "end_time": "2022-11-15T13:16:46.406246",
     "exception": false,
     "start_time": "2022-11-15T13:16:46.372557",
     "status": "completed"
    },
    "tags": []
   },
   "outputs": [
    {
     "name": "stdout",
     "output_type": "stream",
     "text": [
      "100\n"
     ]
    }
   ],
   "source": [
    "alphas = 10**np.linspace(10,-2,100)*0.5\n",
    "print(len(alphas))\n",
    "#alphas = [0.1, 1, 10, 100]\n",
    "#alphas"
   ]
  },
  {
   "cell_type": "code",
   "execution_count": 28,
   "id": "7bb0a06d",
   "metadata": {
    "execution": {
     "iopub.execute_input": "2022-11-15T13:16:46.447173Z",
     "iopub.status.busy": "2022-11-15T13:16:46.446143Z",
     "iopub.status.idle": "2022-11-15T13:16:46.905298Z",
     "shell.execute_reply": "2022-11-15T13:16:46.904166Z"
    },
    "papermill": {
     "duration": 0.483183,
     "end_time": "2022-11-15T13:16:46.908371",
     "exception": false,
     "start_time": "2022-11-15T13:16:46.425188",
     "status": "completed"
    },
    "tags": []
   },
   "outputs": [],
   "source": [
    "poly = PolynomialFeatures(degree = 2)\n",
    "    \n",
    "X_poly_train = poly.fit_transform(X_train)\n",
    "X_poly_test = poly.transform(X_test)"
   ]
  },
  {
   "cell_type": "code",
   "execution_count": 29,
   "id": "575f14cf",
   "metadata": {
    "execution": {
     "iopub.execute_input": "2022-11-15T13:16:46.950154Z",
     "iopub.status.busy": "2022-11-15T13:16:46.949125Z",
     "iopub.status.idle": "2022-11-15T13:16:46.955407Z",
     "shell.execute_reply": "2022-11-15T13:16:46.953988Z"
    },
    "papermill": {
     "duration": 0.031423,
     "end_time": "2022-11-15T13:16:46.958715",
     "exception": false,
     "start_time": "2022-11-15T13:16:46.927292",
     "status": "completed"
    },
    "tags": []
   },
   "outputs": [],
   "source": [
    "# from sklearn.linear_model import Ridge\n",
    "# from tqdm import tqdm\n",
    "\n",
    "# #f = IntProgress(min=0, max=len(alphas)) # instantiate the bar\n",
    "# #display(f)\n",
    "\n",
    "# errors=[]\n",
    "# sweep = np.arange(1, len(alphas), 1, dtype=int)\n",
    "# for i in tqdm(range(0, len(alphas)-1)):\n",
    "#     #print(i)\n",
    "#     #f.value += 1\n",
    "#     ridge = Ridge(alpha=1.0)\n",
    "#     ridge.fit(X_poly_train, Y_train)\n",
    "#     errors.append(reg.score(X_poly_test, Y_test))\n",
    "\n",
    "# print(errors)\n",
    "\n",
    "# import matplotlib.pyplot as plt\n",
    "# plt.figure()\n",
    "# plt.plot(sweep, errors)\n",
    "# plt.xlabel(\"iteration\")\n",
    "# plt.ylabel(\"R2\")\n",
    "# plt.title(\"Iteration vs Error\")\n",
    "# plt.show"
   ]
  },
  {
   "cell_type": "code",
   "execution_count": 30,
   "id": "c84085ac",
   "metadata": {
    "execution": {
     "iopub.execute_input": "2022-11-15T13:16:46.999625Z",
     "iopub.status.busy": "2022-11-15T13:16:46.999018Z",
     "iopub.status.idle": "2022-11-15T13:16:47.007584Z",
     "shell.execute_reply": "2022-11-15T13:16:47.006246Z"
    },
    "papermill": {
     "duration": 0.032595,
     "end_time": "2022-11-15T13:16:47.010642",
     "exception": false,
     "start_time": "2022-11-15T13:16:46.978047",
     "status": "completed"
    },
    "tags": []
   },
   "outputs": [
    {
     "data": {
      "text/plain": [
       "0.8010567171150325"
      ]
     },
     "execution_count": 30,
     "metadata": {},
     "output_type": "execute_result"
    }
   ],
   "source": [
    "max(errors)"
   ]
  },
  {
   "cell_type": "markdown",
   "id": "f0a374df",
   "metadata": {
    "papermill": {
     "duration": 0.020542,
     "end_time": "2022-11-15T13:16:47.051203",
     "exception": false,
     "start_time": "2022-11-15T13:16:47.030661",
     "status": "completed"
    },
    "tags": []
   },
   "source": [
    "# Polynomial regression with PCA for higher degrees"
   ]
  },
  {
   "cell_type": "code",
   "execution_count": 31,
   "id": "a3b5a960",
   "metadata": {
    "execution": {
     "iopub.execute_input": "2022-11-15T13:16:47.093818Z",
     "iopub.status.busy": "2022-11-15T13:16:47.092768Z",
     "iopub.status.idle": "2022-11-15T13:16:47.222102Z",
     "shell.execute_reply": "2022-11-15T13:16:47.220122Z"
    },
    "papermill": {
     "duration": 0.156588,
     "end_time": "2022-11-15T13:16:47.228140",
     "exception": false,
     "start_time": "2022-11-15T13:16:47.071552",
     "status": "completed"
    },
    "tags": []
   },
   "outputs": [
    {
     "name": "stdout",
     "output_type": "stream",
     "text": [
      "shape without pca (1460, 285)\n",
      "shape without pca (1460, 154)\n"
     ]
    }
   ],
   "source": [
    "from sklearn.decomposition import PCA\n",
    "\n",
    "pca = PCA(0.90)\n",
    "X_scaled_pca_data = pca.fit_transform(X_scaled_data)\n",
    "X_scaled_pca_data.shape\n",
    "\n",
    "print(\"shape without pca\", X_scaled_data.shape)\n",
    "print(\"shape without pca\", X_scaled_pca_data.shape)"
   ]
  },
  {
   "cell_type": "markdown",
   "id": "033fc744",
   "metadata": {
    "papermill": {
     "duration": 0.048758,
     "end_time": "2022-11-15T13:16:47.327029",
     "exception": false,
     "start_time": "2022-11-15T13:16:47.278271",
     "status": "completed"
    },
    "tags": []
   },
   "source": [
    "## PCA train test split"
   ]
  },
  {
   "cell_type": "code",
   "execution_count": 32,
   "id": "38f2b902",
   "metadata": {
    "execution": {
     "iopub.execute_input": "2022-11-15T13:16:47.371450Z",
     "iopub.status.busy": "2022-11-15T13:16:47.370824Z",
     "iopub.status.idle": "2022-11-15T13:16:47.382621Z",
     "shell.execute_reply": "2022-11-15T13:16:47.381149Z"
    },
    "papermill": {
     "duration": 0.035397,
     "end_time": "2022-11-15T13:16:47.385515",
     "exception": false,
     "start_time": "2022-11-15T13:16:47.350118",
     "status": "completed"
    },
    "tags": []
   },
   "outputs": [
    {
     "name": "stdout",
     "output_type": "stream",
     "text": [
      "shape of training data (978, 154)\n",
      "shape of testing data (482, 154)\n"
     ]
    }
   ],
   "source": [
    "from sklearn.model_selection import train_test_split\n",
    "\n",
    "X_train, X_test, Y_train, Y_test = train_test_split(X_scaled_pca_data, Y_data, test_size=0.33, random_state=42)\n",
    "\n",
    "print(\"shape of training data\", X_train.shape)\n",
    "print(\"shape of testing data\", X_test.shape)"
   ]
  },
  {
   "cell_type": "markdown",
   "id": "ac2b08d0",
   "metadata": {
    "papermill": {
     "duration": 0.018766,
     "end_time": "2022-11-15T13:16:47.423416",
     "exception": false,
     "start_time": "2022-11-15T13:16:47.404650",
     "status": "completed"
    },
    "tags": []
   },
   "source": [
    "## Polynomial Regression"
   ]
  },
  {
   "cell_type": "code",
   "execution_count": 33,
   "id": "4974aa0c",
   "metadata": {
    "execution": {
     "iopub.execute_input": "2022-11-15T13:16:47.464259Z",
     "iopub.status.busy": "2022-11-15T13:16:47.463746Z",
     "iopub.status.idle": "2022-11-15T13:16:47.470177Z",
     "shell.execute_reply": "2022-11-15T13:16:47.468610Z"
    },
    "papermill": {
     "duration": 0.030663,
     "end_time": "2022-11-15T13:16:47.473347",
     "exception": false,
     "start_time": "2022-11-15T13:16:47.442684",
     "status": "completed"
    },
    "tags": []
   },
   "outputs": [],
   "source": [
    "# from sklearn.preprocessing import PolynomialFeatures\n",
    "# from sklearn.linear_model import LinearRegression\n",
    "\n",
    "# errors=[]\n",
    "\n",
    "# sweep = np.arange(3, 4, 1, dtype=int)\n",
    "# for i in sweep:\n",
    "#     print(\"iteration = \", i)\n",
    "#     poly = PolynomialFeatures(degree = i)\n",
    "    \n",
    "#     X_poly_train = poly.fit_transform(X_train)\n",
    "#     X_poly_test = poly.transform(X_test)\n",
    "#     print(\"Memory size of numpy array in bytes in MB:\", X_poly_train.size * X_poly_train.itemsize / 1000000)\n",
    "    \n",
    "#     reg = LinearRegression()\n",
    "#     reg.fit(X_poly_train, Y_train)\n",
    "    \n",
    "#     errors.append(reg.score(X_poly_test, Y_test))\n",
    "    \n",
    "# print(errors)\n",
    "\n",
    "# import matplotlib.pyplot as plt\n",
    "# plt.figure()\n",
    "# plt.plot(sweep, errors)\n",
    "# plt.xlabel(\"iteration\")\n",
    "# plt.ylabel(\"R2\")\n",
    "# plt.title(\"Iteration vs Error\")\n",
    "# plt.show"
   ]
  },
  {
   "cell_type": "markdown",
   "id": "0d688c45",
   "metadata": {
    "papermill": {
     "duration": 0.018722,
     "end_time": "2022-11-15T13:16:47.511999",
     "exception": false,
     "start_time": "2022-11-15T13:16:47.493277",
     "status": "completed"
    },
    "tags": []
   },
   "source": [
    "# Random Forest Regression"
   ]
  },
  {
   "cell_type": "markdown",
   "id": "a6ffb3d8",
   "metadata": {
    "papermill": {
     "duration": 0.018516,
     "end_time": "2022-11-15T13:16:47.549616",
     "exception": false,
     "start_time": "2022-11-15T13:16:47.531100",
     "status": "completed"
    },
    "tags": []
   },
   "source": [
    "## PCA train test split"
   ]
  },
  {
   "cell_type": "code",
   "execution_count": 34,
   "id": "f1fa6dae",
   "metadata": {
    "execution": {
     "iopub.execute_input": "2022-11-15T13:16:47.591160Z",
     "iopub.status.busy": "2022-11-15T13:16:47.590231Z",
     "iopub.status.idle": "2022-11-15T13:16:47.604705Z",
     "shell.execute_reply": "2022-11-15T13:16:47.603142Z"
    },
    "papermill": {
     "duration": 0.040433,
     "end_time": "2022-11-15T13:16:47.609193",
     "exception": false,
     "start_time": "2022-11-15T13:16:47.568760",
     "status": "completed"
    },
    "tags": []
   },
   "outputs": [
    {
     "name": "stdout",
     "output_type": "stream",
     "text": [
      "shape of training data (978, 285)\n",
      "shape of testing data (482, 285)\n"
     ]
    }
   ],
   "source": [
    "from sklearn.model_selection import train_test_split\n",
    "\n",
    "X_train, X_test, Y_train, Y_test = train_test_split(X_scaled_data, Y_data, test_size=0.33, random_state=42)\n",
    "\n",
    "print(\"shape of training data\", X_train.shape)\n",
    "print(\"shape of testing data\", X_test.shape)"
   ]
  },
  {
   "cell_type": "code",
   "execution_count": 35,
   "id": "b6eb5ffd",
   "metadata": {
    "execution": {
     "iopub.execute_input": "2022-11-15T13:16:47.652539Z",
     "iopub.status.busy": "2022-11-15T13:16:47.651078Z",
     "iopub.status.idle": "2022-11-15T13:16:47.660397Z",
     "shell.execute_reply": "2022-11-15T13:16:47.658880Z"
    },
    "papermill": {
     "duration": 0.034805,
     "end_time": "2022-11-15T13:16:47.664027",
     "exception": false,
     "start_time": "2022-11-15T13:16:47.629222",
     "status": "completed"
    },
    "tags": []
   },
   "outputs": [],
   "source": [
    "# from sklearn.ensemble import RandomForestRegressor\n",
    "\n",
    "# from tqdm import tqdm\n",
    "# estimators = np.arange(10, 200, 10)\n",
    "# errors = []\n",
    "\n",
    "# for n in tqdm(estimators):\n",
    "#     forest = RandomForestRegressor(n_estimators=n)\n",
    "#     forest.fit(X_train, Y_train)\n",
    "    \n",
    "#     errors.append(forest.score(X_test, Y_test))\n",
    "\n",
    "# plt.title(\"Effect of n_estimators\")\n",
    "# plt.xlabel(\"n_estimator\")\n",
    "# plt.ylabel(\"score\")\n",
    "# plt.plot(estimators, errors)"
   ]
  },
  {
   "cell_type": "code",
   "execution_count": 36,
   "id": "f093992f",
   "metadata": {
    "execution": {
     "iopub.execute_input": "2022-11-15T13:16:47.706649Z",
     "iopub.status.busy": "2022-11-15T13:16:47.705607Z",
     "iopub.status.idle": "2022-11-15T13:16:50.181066Z",
     "shell.execute_reply": "2022-11-15T13:16:50.179614Z"
    },
    "papermill": {
     "duration": 2.500349,
     "end_time": "2022-11-15T13:16:50.184242",
     "exception": false,
     "start_time": "2022-11-15T13:16:47.683893",
     "status": "completed"
    },
    "tags": []
   },
   "outputs": [
    {
     "data": {
      "text/plain": [
       "0.8684064655639139"
      ]
     },
     "execution_count": 36,
     "metadata": {},
     "output_type": "execute_result"
    }
   ],
   "source": [
    "from sklearn.ensemble import RandomForestRegressor\n",
    "\n",
    "forest = RandomForestRegressor(n_estimators=100)\n",
    "forest.fit(X_train, Y_train)\n",
    "\n",
    "forest.score(X_test, Y_test)"
   ]
  },
  {
   "cell_type": "code",
   "execution_count": 37,
   "id": "2cc1b019",
   "metadata": {
    "execution": {
     "iopub.execute_input": "2022-11-15T13:16:50.224426Z",
     "iopub.status.busy": "2022-11-15T13:16:50.223860Z",
     "iopub.status.idle": "2022-11-15T13:16:52.567664Z",
     "shell.execute_reply": "2022-11-15T13:16:52.566412Z"
    },
    "papermill": {
     "duration": 2.366739,
     "end_time": "2022-11-15T13:16:52.570179",
     "exception": false,
     "start_time": "2022-11-15T13:16:50.203440",
     "status": "completed"
    },
    "tags": []
   },
   "outputs": [
    {
     "data": {
      "text/plain": [
       "0.8550689206653508"
      ]
     },
     "execution_count": 37,
     "metadata": {},
     "output_type": "execute_result"
    }
   ],
   "source": [
    "from sklearn.ensemble import RandomForestRegressor\n",
    "\n",
    "forest = RandomForestRegressor(n_estimators=100)\n",
    "forest.fit(X_train, Y_train)\n",
    "\n",
    "forest.score(X_test, Y_test)"
   ]
  },
  {
   "cell_type": "markdown",
   "id": "8a2356b9",
   "metadata": {
    "papermill": {
     "duration": 0.020142,
     "end_time": "2022-11-15T13:16:52.609449",
     "exception": false,
     "start_time": "2022-11-15T13:16:52.589307",
     "status": "completed"
    },
    "tags": []
   },
   "source": [
    "# Gradient Boosting"
   ]
  },
  {
   "cell_type": "code",
   "execution_count": 38,
   "id": "6ded8787",
   "metadata": {
    "execution": {
     "iopub.execute_input": "2022-11-15T13:16:52.649737Z",
     "iopub.status.busy": "2022-11-15T13:16:52.649167Z",
     "iopub.status.idle": "2022-11-15T13:16:54.734579Z",
     "shell.execute_reply": "2022-11-15T13:16:54.732846Z"
    },
    "papermill": {
     "duration": 2.109785,
     "end_time": "2022-11-15T13:16:54.738180",
     "exception": false,
     "start_time": "2022-11-15T13:16:52.628395",
     "status": "completed"
    },
    "tags": []
   },
   "outputs": [
    {
     "data": {
      "text/plain": [
       "0.8699274097293426"
      ]
     },
     "execution_count": 38,
     "metadata": {},
     "output_type": "execute_result"
    }
   ],
   "source": [
    "from sklearn.ensemble import GradientBoostingRegressor\n",
    "\n",
    "boost = GradientBoostingRegressor(random_state=0, n_estimators=250)\n",
    "boost.fit(X_train, Y_train)\n",
    "\n",
    "boost.score(X_test, Y_test)"
   ]
  },
  {
   "cell_type": "code",
   "execution_count": 39,
   "id": "7c165e41",
   "metadata": {
    "execution": {
     "iopub.execute_input": "2022-11-15T13:16:54.779825Z",
     "iopub.status.busy": "2022-11-15T13:16:54.779270Z",
     "iopub.status.idle": "2022-11-15T13:16:54.785243Z",
     "shell.execute_reply": "2022-11-15T13:16:54.783717Z"
    },
    "papermill": {
     "duration": 0.03041,
     "end_time": "2022-11-15T13:16:54.788146",
     "exception": false,
     "start_time": "2022-11-15T13:16:54.757736",
     "status": "completed"
    },
    "tags": []
   },
   "outputs": [],
   "source": [
    "# from sklearn.model_selection import GridSearchCV\n",
    "\n",
    "# param = {\n",
    "#     'learning_rate':[0.05, 0.1, 0.15, 0.2],\n",
    "#     'n_estimators':[50, 100, 150, 200, 250]}\n",
    "\n",
    "# boost_cv = GridSearchCV(estimator=boost, \n",
    "#                         param_grid=param, \n",
    "#                         cv= 4, verbose=10)\n",
    "# boost_cv.fit(X_train,Y_train)\n",
    "# boost_cv.best_params_, boost_cv.best_score_"
   ]
  },
  {
   "cell_type": "markdown",
   "id": "79950d1c",
   "metadata": {
    "papermill": {
     "duration": 0.019274,
     "end_time": "2022-11-15T13:16:54.826738",
     "exception": false,
     "start_time": "2022-11-15T13:16:54.807464",
     "status": "completed"
    },
    "tags": []
   },
   "source": [
    "# XGBoost"
   ]
  },
  {
   "cell_type": "code",
   "execution_count": 40,
   "id": "6d0ae3d4",
   "metadata": {
    "execution": {
     "iopub.execute_input": "2022-11-15T13:16:54.871403Z",
     "iopub.status.busy": "2022-11-15T13:16:54.870777Z",
     "iopub.status.idle": "2022-11-15T13:16:56.079202Z",
     "shell.execute_reply": "2022-11-15T13:16:56.078078Z"
    },
    "papermill": {
     "duration": 1.234491,
     "end_time": "2022-11-15T13:16:56.083119",
     "exception": false,
     "start_time": "2022-11-15T13:16:54.848628",
     "status": "completed"
    },
    "tags": []
   },
   "outputs": [
    {
     "name": "stdout",
     "output_type": "stream",
     "text": [
      "34433.889961417866\n"
     ]
    }
   ],
   "source": [
    "import xgboost as xgb\n",
    "from sklearn.metrics import auc, accuracy_score, confusion_matrix, mean_squared_error\n",
    "\n",
    "xgb_model = xgb.XGBRegressor()\n",
    "\n",
    "xgb_model.fit(X_train, Y_train)\n",
    "\n",
    "Y_hat_test = xgb_model.predict(X_test)\n",
    "\n",
    "mse=mean_squared_error(Y_test, Y_hat_test)\n",
    "\n",
    "print(np.sqrt(mse))"
   ]
  },
  {
   "cell_type": "markdown",
   "id": "80e87bb1",
   "metadata": {
    "papermill": {
     "duration": 0.018824,
     "end_time": "2022-11-15T13:16:56.123858",
     "exception": false,
     "start_time": "2022-11-15T13:16:56.105034",
     "status": "completed"
    },
    "tags": []
   },
   "source": [
    "# Submission"
   ]
  },
  {
   "cell_type": "markdown",
   "id": "24baa8e3",
   "metadata": {
    "papermill": {
     "duration": 0.019561,
     "end_time": "2022-11-15T13:16:56.163154",
     "exception": false,
     "start_time": "2022-11-15T13:16:56.143593",
     "status": "completed"
    },
    "tags": []
   },
   "source": [
    "## Submission for polynomial regression"
   ]
  },
  {
   "cell_type": "code",
   "execution_count": 41,
   "id": "cba86632",
   "metadata": {
    "execution": {
     "iopub.execute_input": "2022-11-15T13:16:56.206634Z",
     "iopub.status.busy": "2022-11-15T13:16:56.206079Z",
     "iopub.status.idle": "2022-11-15T13:16:56.769092Z",
     "shell.execute_reply": "2022-11-15T13:16:56.767287Z"
    },
    "papermill": {
     "duration": 0.592522,
     "end_time": "2022-11-15T13:16:56.777473",
     "exception": false,
     "start_time": "2022-11-15T13:16:56.184951",
     "status": "completed"
    },
    "tags": []
   },
   "outputs": [
    {
     "name": "stdout",
     "output_type": "stream",
     "text": [
      "[199437.22171287 204608.93926633 136595.15954564 ... 136973.65711095\n",
      " 193566.87251257 102677.56688362]\n"
     ]
    }
   ],
   "source": [
    "X_scaled_poly_submit = poly.transform(X_scaled_submit)\n",
    "predictions = reg.predict(X_scaled_poly_submit)\n",
    "print(predictions)"
   ]
  },
  {
   "cell_type": "code",
   "execution_count": 42,
   "id": "f86d6853",
   "metadata": {
    "execution": {
     "iopub.execute_input": "2022-11-15T13:16:56.879589Z",
     "iopub.status.busy": "2022-11-15T13:16:56.878587Z",
     "iopub.status.idle": "2022-11-15T13:16:56.887661Z",
     "shell.execute_reply": "2022-11-15T13:16:56.886459Z"
    },
    "papermill": {
     "duration": 0.063936,
     "end_time": "2022-11-15T13:16:56.890438",
     "exception": false,
     "start_time": "2022-11-15T13:16:56.826502",
     "status": "completed"
    },
    "tags": []
   },
   "outputs": [],
   "source": [
    "X_submit['SalePrice']=predictions\n",
    "#X_test.head()"
   ]
  },
  {
   "cell_type": "code",
   "execution_count": 43,
   "id": "ae49b5bc",
   "metadata": {
    "execution": {
     "iopub.execute_input": "2022-11-15T13:16:56.933196Z",
     "iopub.status.busy": "2022-11-15T13:16:56.932607Z",
     "iopub.status.idle": "2022-11-15T13:16:56.948061Z",
     "shell.execute_reply": "2022-11-15T13:16:56.946568Z"
    },
    "papermill": {
     "duration": 0.040509,
     "end_time": "2022-11-15T13:16:56.951016",
     "exception": false,
     "start_time": "2022-11-15T13:16:56.910507",
     "status": "completed"
    },
    "tags": []
   },
   "outputs": [
    {
     "data": {
      "text/html": [
       "<div>\n",
       "<style scoped>\n",
       "    .dataframe tbody tr th:only-of-type {\n",
       "        vertical-align: middle;\n",
       "    }\n",
       "\n",
       "    .dataframe tbody tr th {\n",
       "        vertical-align: top;\n",
       "    }\n",
       "\n",
       "    .dataframe thead th {\n",
       "        text-align: right;\n",
       "    }\n",
       "</style>\n",
       "<table border=\"1\" class=\"dataframe\">\n",
       "  <thead>\n",
       "    <tr style=\"text-align: right;\">\n",
       "      <th></th>\n",
       "      <th>SalePrice</th>\n",
       "    </tr>\n",
       "    <tr>\n",
       "      <th>Id</th>\n",
       "      <th></th>\n",
       "    </tr>\n",
       "  </thead>\n",
       "  <tbody>\n",
       "    <tr>\n",
       "      <th>1461</th>\n",
       "      <td>199437.221713</td>\n",
       "    </tr>\n",
       "    <tr>\n",
       "      <th>1462</th>\n",
       "      <td>204608.939266</td>\n",
       "    </tr>\n",
       "    <tr>\n",
       "      <th>1463</th>\n",
       "      <td>136595.159546</td>\n",
       "    </tr>\n",
       "    <tr>\n",
       "      <th>1464</th>\n",
       "      <td>131268.117204</td>\n",
       "    </tr>\n",
       "    <tr>\n",
       "      <th>1465</th>\n",
       "      <td>159312.051204</td>\n",
       "    </tr>\n",
       "  </tbody>\n",
       "</table>\n",
       "</div>"
      ],
      "text/plain": [
       "          SalePrice\n",
       "Id                 \n",
       "1461  199437.221713\n",
       "1462  204608.939266\n",
       "1463  136595.159546\n",
       "1464  131268.117204\n",
       "1465  159312.051204"
      ]
     },
     "execution_count": 43,
     "metadata": {},
     "output_type": "execute_result"
    }
   ],
   "source": [
    "submitdf = X_submit[['Id','SalePrice']].set_index('Id')\n",
    "submitdf.head()"
   ]
  },
  {
   "cell_type": "code",
   "execution_count": 44,
   "id": "b935b630",
   "metadata": {
    "execution": {
     "iopub.execute_input": "2022-11-15T13:16:56.992188Z",
     "iopub.status.busy": "2022-11-15T13:16:56.991667Z",
     "iopub.status.idle": "2022-11-15T13:16:56.996983Z",
     "shell.execute_reply": "2022-11-15T13:16:56.995518Z"
    },
    "papermill": {
     "duration": 0.029034,
     "end_time": "2022-11-15T13:16:56.999548",
     "exception": false,
     "start_time": "2022-11-15T13:16:56.970514",
     "status": "completed"
    },
    "tags": []
   },
   "outputs": [],
   "source": [
    "#!cd /kaggle/workingcd input\n",
    "#submitdf.to_csv(\"submission.csv\")\n",
    "#!head submission.csv"
   ]
  },
  {
   "cell_type": "markdown",
   "id": "1afc7c10",
   "metadata": {
    "papermill": {
     "duration": 0.01897,
     "end_time": "2022-11-15T13:16:57.038184",
     "exception": false,
     "start_time": "2022-11-15T13:16:57.019214",
     "status": "completed"
    },
    "tags": []
   },
   "source": [
    "## Submission for Random Forest Regression"
   ]
  },
  {
   "cell_type": "code",
   "execution_count": 45,
   "id": "d66386b3",
   "metadata": {
    "execution": {
     "iopub.execute_input": "2022-11-15T13:16:57.082433Z",
     "iopub.status.busy": "2022-11-15T13:16:57.081067Z",
     "iopub.status.idle": "2022-11-15T13:16:57.133442Z",
     "shell.execute_reply": "2022-11-15T13:16:57.131786Z"
    },
    "papermill": {
     "duration": 0.079614,
     "end_time": "2022-11-15T13:16:57.137760",
     "exception": false,
     "start_time": "2022-11-15T13:16:57.058146",
     "status": "completed"
    },
    "tags": []
   },
   "outputs": [
    {
     "name": "stdout",
     "output_type": "stream",
     "text": [
      "[122079.5  151960.25 186429.92 ... 160690.29 114863.99 229044.77]\n"
     ]
    }
   ],
   "source": [
    "predictions = forest.predict(X_scaled_submit)\n",
    "print(predictions)"
   ]
  },
  {
   "cell_type": "code",
   "execution_count": 46,
   "id": "a10395f7",
   "metadata": {
    "execution": {
     "iopub.execute_input": "2022-11-15T13:16:57.182805Z",
     "iopub.status.busy": "2022-11-15T13:16:57.182173Z",
     "iopub.status.idle": "2022-11-15T13:16:57.190403Z",
     "shell.execute_reply": "2022-11-15T13:16:57.188622Z"
    },
    "papermill": {
     "duration": 0.034925,
     "end_time": "2022-11-15T13:16:57.193546",
     "exception": false,
     "start_time": "2022-11-15T13:16:57.158621",
     "status": "completed"
    },
    "tags": []
   },
   "outputs": [],
   "source": [
    "X_submit['SalePrice']=predictions\n",
    "#X_test.head()"
   ]
  },
  {
   "cell_type": "code",
   "execution_count": 47,
   "id": "88d26bf9",
   "metadata": {
    "execution": {
     "iopub.execute_input": "2022-11-15T13:16:57.235928Z",
     "iopub.status.busy": "2022-11-15T13:16:57.235351Z",
     "iopub.status.idle": "2022-11-15T13:16:57.250374Z",
     "shell.execute_reply": "2022-11-15T13:16:57.248822Z"
    },
    "papermill": {
     "duration": 0.039413,
     "end_time": "2022-11-15T13:16:57.253280",
     "exception": false,
     "start_time": "2022-11-15T13:16:57.213867",
     "status": "completed"
    },
    "tags": []
   },
   "outputs": [
    {
     "data": {
      "text/html": [
       "<div>\n",
       "<style scoped>\n",
       "    .dataframe tbody tr th:only-of-type {\n",
       "        vertical-align: middle;\n",
       "    }\n",
       "\n",
       "    .dataframe tbody tr th {\n",
       "        vertical-align: top;\n",
       "    }\n",
       "\n",
       "    .dataframe thead th {\n",
       "        text-align: right;\n",
       "    }\n",
       "</style>\n",
       "<table border=\"1\" class=\"dataframe\">\n",
       "  <thead>\n",
       "    <tr style=\"text-align: right;\">\n",
       "      <th></th>\n",
       "      <th>SalePrice</th>\n",
       "    </tr>\n",
       "    <tr>\n",
       "      <th>Id</th>\n",
       "      <th></th>\n",
       "    </tr>\n",
       "  </thead>\n",
       "  <tbody>\n",
       "    <tr>\n",
       "      <th>1461</th>\n",
       "      <td>122079.50</td>\n",
       "    </tr>\n",
       "    <tr>\n",
       "      <th>1462</th>\n",
       "      <td>151960.25</td>\n",
       "    </tr>\n",
       "    <tr>\n",
       "      <th>1463</th>\n",
       "      <td>186429.92</td>\n",
       "    </tr>\n",
       "    <tr>\n",
       "      <th>1464</th>\n",
       "      <td>182483.40</td>\n",
       "    </tr>\n",
       "    <tr>\n",
       "      <th>1465</th>\n",
       "      <td>199024.88</td>\n",
       "    </tr>\n",
       "  </tbody>\n",
       "</table>\n",
       "</div>"
      ],
      "text/plain": [
       "      SalePrice\n",
       "Id             \n",
       "1461  122079.50\n",
       "1462  151960.25\n",
       "1463  186429.92\n",
       "1464  182483.40\n",
       "1465  199024.88"
      ]
     },
     "execution_count": 47,
     "metadata": {},
     "output_type": "execute_result"
    }
   ],
   "source": [
    "submitdf = X_submit[['Id','SalePrice']].set_index('Id')\n",
    "submitdf.head()"
   ]
  },
  {
   "cell_type": "code",
   "execution_count": 48,
   "id": "0d98b525",
   "metadata": {
    "execution": {
     "iopub.execute_input": "2022-11-15T13:16:57.297783Z",
     "iopub.status.busy": "2022-11-15T13:16:57.297197Z",
     "iopub.status.idle": "2022-11-15T13:16:57.302880Z",
     "shell.execute_reply": "2022-11-15T13:16:57.301514Z"
    },
    "papermill": {
     "duration": 0.031528,
     "end_time": "2022-11-15T13:16:57.305587",
     "exception": false,
     "start_time": "2022-11-15T13:16:57.274059",
     "status": "completed"
    },
    "tags": []
   },
   "outputs": [],
   "source": [
    "#!cd /kaggle/working\n",
    "#submitdf.to_csv(\"submission.csv\")\n",
    "#!head submission.csv"
   ]
  },
  {
   "cell_type": "markdown",
   "id": "553c333a",
   "metadata": {
    "papermill": {
     "duration": 0.02039,
     "end_time": "2022-11-15T13:16:57.346504",
     "exception": false,
     "start_time": "2022-11-15T13:16:57.326114",
     "status": "completed"
    },
    "tags": []
   },
   "source": [
    "## Submission for Gradient Boosting"
   ]
  },
  {
   "cell_type": "code",
   "execution_count": 49,
   "id": "20f9f3a0",
   "metadata": {
    "execution": {
     "iopub.execute_input": "2022-11-15T13:16:57.388575Z",
     "iopub.status.busy": "2022-11-15T13:16:57.388035Z",
     "iopub.status.idle": "2022-11-15T13:16:57.404283Z",
     "shell.execute_reply": "2022-11-15T13:16:57.402426Z"
    },
    "papermill": {
     "duration": 0.040688,
     "end_time": "2022-11-15T13:16:57.406848",
     "exception": false,
     "start_time": "2022-11-15T13:16:57.366160",
     "status": "completed"
    },
    "tags": []
   },
   "outputs": [
    {
     "name": "stdout",
     "output_type": "stream",
     "text": [
      "[109103.71595169 141442.60797488 162666.31695806 ... 170753.61859146\n",
      " 113199.66596344 225145.34064465]\n"
     ]
    }
   ],
   "source": [
    "predictions = boost.predict(X_scaled_submit)\n",
    "print(predictions)"
   ]
  },
  {
   "cell_type": "code",
   "execution_count": 50,
   "id": "c45b07bf",
   "metadata": {
    "execution": {
     "iopub.execute_input": "2022-11-15T13:16:57.449980Z",
     "iopub.status.busy": "2022-11-15T13:16:57.449437Z",
     "iopub.status.idle": "2022-11-15T13:16:57.456002Z",
     "shell.execute_reply": "2022-11-15T13:16:57.454424Z"
    },
    "papermill": {
     "duration": 0.032033,
     "end_time": "2022-11-15T13:16:57.459037",
     "exception": false,
     "start_time": "2022-11-15T13:16:57.427004",
     "status": "completed"
    },
    "tags": []
   },
   "outputs": [],
   "source": [
    "X_submit['SalePrice']=predictions\n",
    "#X_test.head()"
   ]
  },
  {
   "cell_type": "code",
   "execution_count": 51,
   "id": "49ea6d4f",
   "metadata": {
    "execution": {
     "iopub.execute_input": "2022-11-15T13:16:57.505121Z",
     "iopub.status.busy": "2022-11-15T13:16:57.504569Z",
     "iopub.status.idle": "2022-11-15T13:16:57.520981Z",
     "shell.execute_reply": "2022-11-15T13:16:57.519799Z"
    },
    "papermill": {
     "duration": 0.044741,
     "end_time": "2022-11-15T13:16:57.523545",
     "exception": false,
     "start_time": "2022-11-15T13:16:57.478804",
     "status": "completed"
    },
    "tags": []
   },
   "outputs": [
    {
     "data": {
      "text/html": [
       "<div>\n",
       "<style scoped>\n",
       "    .dataframe tbody tr th:only-of-type {\n",
       "        vertical-align: middle;\n",
       "    }\n",
       "\n",
       "    .dataframe tbody tr th {\n",
       "        vertical-align: top;\n",
       "    }\n",
       "\n",
       "    .dataframe thead th {\n",
       "        text-align: right;\n",
       "    }\n",
       "</style>\n",
       "<table border=\"1\" class=\"dataframe\">\n",
       "  <thead>\n",
       "    <tr style=\"text-align: right;\">\n",
       "      <th></th>\n",
       "      <th>SalePrice</th>\n",
       "    </tr>\n",
       "    <tr>\n",
       "      <th>Id</th>\n",
       "      <th></th>\n",
       "    </tr>\n",
       "  </thead>\n",
       "  <tbody>\n",
       "    <tr>\n",
       "      <th>1461</th>\n",
       "      <td>109103.715952</td>\n",
       "    </tr>\n",
       "    <tr>\n",
       "      <th>1462</th>\n",
       "      <td>141442.607975</td>\n",
       "    </tr>\n",
       "    <tr>\n",
       "      <th>1463</th>\n",
       "      <td>162666.316958</td>\n",
       "    </tr>\n",
       "    <tr>\n",
       "      <th>1464</th>\n",
       "      <td>166750.815850</td>\n",
       "    </tr>\n",
       "    <tr>\n",
       "      <th>1465</th>\n",
       "      <td>175372.595567</td>\n",
       "    </tr>\n",
       "  </tbody>\n",
       "</table>\n",
       "</div>"
      ],
      "text/plain": [
       "          SalePrice\n",
       "Id                 \n",
       "1461  109103.715952\n",
       "1462  141442.607975\n",
       "1463  162666.316958\n",
       "1464  166750.815850\n",
       "1465  175372.595567"
      ]
     },
     "execution_count": 51,
     "metadata": {},
     "output_type": "execute_result"
    }
   ],
   "source": [
    "submitdf = X_submit[['Id','SalePrice']].set_index('Id')\n",
    "submitdf.head()"
   ]
  },
  {
   "cell_type": "code",
   "execution_count": 52,
   "id": "e6f0d0d3",
   "metadata": {
    "execution": {
     "iopub.execute_input": "2022-11-15T13:16:57.566332Z",
     "iopub.status.busy": "2022-11-15T13:16:57.565736Z",
     "iopub.status.idle": "2022-11-15T13:16:59.781079Z",
     "shell.execute_reply": "2022-11-15T13:16:59.779281Z"
    },
    "papermill": {
     "duration": 2.24056,
     "end_time": "2022-11-15T13:16:59.784661",
     "exception": false,
     "start_time": "2022-11-15T13:16:57.544101",
     "status": "completed"
    },
    "tags": []
   },
   "outputs": [
    {
     "name": "stdout",
     "output_type": "stream",
     "text": [
      "Id,SalePrice\r\n",
      "1461,109103.71595169124\r\n",
      "1462,141442.60797487956\r\n",
      "1463,162666.31695805746\r\n",
      "1464,166750.81585029158\r\n",
      "1465,175372.5955667768\r\n",
      "1466,154386.8375699876\r\n",
      "1467,155271.55799401898\r\n",
      "1468,144017.8212571068\r\n",
      "1469,161563.844837635\r\n"
     ]
    }
   ],
   "source": [
    "!cd /kaggle/working\n",
    "submitdf.to_csv(\"submission.csv\")\n",
    "!head submission.csv"
   ]
  }
 ],
 "metadata": {
  "kernelspec": {
   "display_name": "Python 3",
   "language": "python",
   "name": "python3"
  },
  "language_info": {
   "codemirror_mode": {
    "name": "ipython",
    "version": 3
   },
   "file_extension": ".py",
   "mimetype": "text/x-python",
   "name": "python",
   "nbconvert_exporter": "python",
   "pygments_lexer": "ipython3",
   "version": "3.7.12"
  },
  "papermill": {
   "default_parameters": {},
   "duration": 43.235224,
   "end_time": "2022-11-15T13:17:01.135189",
   "environment_variables": {},
   "exception": null,
   "input_path": "__notebook__.ipynb",
   "output_path": "__notebook__.ipynb",
   "parameters": {},
   "start_time": "2022-11-15T13:16:17.899965",
   "version": "2.3.4"
  }
 },
 "nbformat": 4,
 "nbformat_minor": 5
}
