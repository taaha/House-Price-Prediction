{
 "cells": [
  {
   "cell_type": "code",
   "execution_count": 1,
   "id": "767f6aed",
   "metadata": {
    "_cell_guid": "b1076dfc-b9ad-4769-8c92-a6c4dae69d19",
    "_uuid": "8f2839f25d086af736a60e9eeb907d3b93b6e0e5",
    "execution": {
     "iopub.execute_input": "2022-11-12T17:30:42.970747Z",
     "iopub.status.busy": "2022-11-12T17:30:42.970265Z",
     "iopub.status.idle": "2022-11-12T17:30:43.779383Z",
     "shell.execute_reply": "2022-11-12T17:30:43.778071Z"
    },
    "papermill": {
     "duration": 0.826804,
     "end_time": "2022-11-12T17:30:43.785276",
     "exception": false,
     "start_time": "2022-11-12T17:30:42.958472",
     "status": "completed"
    },
    "tags": []
   },
   "outputs": [
    {
     "name": "stdout",
     "output_type": "stream",
     "text": [
      "/kaggle/input/house-prices-advanced-regression-techniques/sample_submission.csv\n",
      "/kaggle/input/house-prices-advanced-regression-techniques/data_description.txt\n",
      "/kaggle/input/house-prices-advanced-regression-techniques/train.csv\n",
      "/kaggle/input/house-prices-advanced-regression-techniques/test.csv\n"
     ]
    }
   ],
   "source": [
    "# This Python 3 environment comes with many helpful analytics libraries installed\n",
    "# It is defined by the kaggle/python Docker image: https://github.com/kaggle/docker-python\n",
    "# For example, here's several helpful packages to load\n",
    "\n",
    "import numpy as np # linear algebra\n",
    "import pandas as pd # data processing, CSV file I/O (e.g. pd.read_csv)\n",
    "from scipy import stats\n",
    "\n",
    "# Input data files are available in the read-only \"../input/\" directory\n",
    "# For example, running this (by clicking run or pressing Shift+Enter) will list all files under the input directory\n",
    "\n",
    "import os\n",
    "for dirname, _, filenames in os.walk('/kaggle/input'):\n",
    "    for filename in filenames:\n",
    "        print(os.path.join(dirname, filename))\n",
    "\n",
    "# You can write up to 20GB to the current directory (/kaggle/working/) that gets preserved as output when you create a version using \"Save & Run All\" \n",
    "# You can also write temporary files to /kaggle/temp/, but they won't be saved outside of the current session"
   ]
  },
  {
   "cell_type": "markdown",
   "id": "c6b78518",
   "metadata": {
    "papermill": {
     "duration": 0.008337,
     "end_time": "2022-11-12T17:30:43.804081",
     "exception": false,
     "start_time": "2022-11-12T17:30:43.795744",
     "status": "completed"
    },
    "tags": []
   },
   "source": [
    "# Getting Dataframes"
   ]
  },
  {
   "cell_type": "code",
   "execution_count": 2,
   "id": "1303d1ef",
   "metadata": {
    "execution": {
     "iopub.execute_input": "2022-11-12T17:30:43.826360Z",
     "iopub.status.busy": "2022-11-12T17:30:43.825580Z",
     "iopub.status.idle": "2022-11-12T17:30:44.017584Z",
     "shell.execute_reply": "2022-11-12T17:30:44.016422Z"
    },
    "papermill": {
     "duration": 0.205355,
     "end_time": "2022-11-12T17:30:44.019971",
     "exception": false,
     "start_time": "2022-11-12T17:30:43.814616",
     "status": "completed"
    },
    "tags": []
   },
   "outputs": [
    {
     "data": {
      "text/html": [
       "<div>\n",
       "<style scoped>\n",
       "    .dataframe tbody tr th:only-of-type {\n",
       "        vertical-align: middle;\n",
       "    }\n",
       "\n",
       "    .dataframe tbody tr th {\n",
       "        vertical-align: top;\n",
       "    }\n",
       "\n",
       "    .dataframe thead th {\n",
       "        text-align: right;\n",
       "    }\n",
       "</style>\n",
       "<table border=\"1\" class=\"dataframe\">\n",
       "  <thead>\n",
       "    <tr style=\"text-align: right;\">\n",
       "      <th></th>\n",
       "      <th>Id</th>\n",
       "      <th>MSSubClass</th>\n",
       "      <th>MSZoning</th>\n",
       "      <th>LotFrontage</th>\n",
       "      <th>LotArea</th>\n",
       "      <th>Street</th>\n",
       "      <th>Alley</th>\n",
       "      <th>LotShape</th>\n",
       "      <th>LandContour</th>\n",
       "      <th>Utilities</th>\n",
       "      <th>...</th>\n",
       "      <th>PoolArea</th>\n",
       "      <th>PoolQC</th>\n",
       "      <th>Fence</th>\n",
       "      <th>MiscFeature</th>\n",
       "      <th>MiscVal</th>\n",
       "      <th>MoSold</th>\n",
       "      <th>YrSold</th>\n",
       "      <th>SaleType</th>\n",
       "      <th>SaleCondition</th>\n",
       "      <th>SalePrice</th>\n",
       "    </tr>\n",
       "  </thead>\n",
       "  <tbody>\n",
       "    <tr>\n",
       "      <th>0</th>\n",
       "      <td>1</td>\n",
       "      <td>60</td>\n",
       "      <td>RL</td>\n",
       "      <td>65.0</td>\n",
       "      <td>8450</td>\n",
       "      <td>Pave</td>\n",
       "      <td>NaN</td>\n",
       "      <td>Reg</td>\n",
       "      <td>Lvl</td>\n",
       "      <td>AllPub</td>\n",
       "      <td>...</td>\n",
       "      <td>0</td>\n",
       "      <td>NaN</td>\n",
       "      <td>NaN</td>\n",
       "      <td>NaN</td>\n",
       "      <td>0</td>\n",
       "      <td>2</td>\n",
       "      <td>2008</td>\n",
       "      <td>WD</td>\n",
       "      <td>Normal</td>\n",
       "      <td>208500</td>\n",
       "    </tr>\n",
       "    <tr>\n",
       "      <th>1</th>\n",
       "      <td>2</td>\n",
       "      <td>20</td>\n",
       "      <td>RL</td>\n",
       "      <td>80.0</td>\n",
       "      <td>9600</td>\n",
       "      <td>Pave</td>\n",
       "      <td>NaN</td>\n",
       "      <td>Reg</td>\n",
       "      <td>Lvl</td>\n",
       "      <td>AllPub</td>\n",
       "      <td>...</td>\n",
       "      <td>0</td>\n",
       "      <td>NaN</td>\n",
       "      <td>NaN</td>\n",
       "      <td>NaN</td>\n",
       "      <td>0</td>\n",
       "      <td>5</td>\n",
       "      <td>2007</td>\n",
       "      <td>WD</td>\n",
       "      <td>Normal</td>\n",
       "      <td>181500</td>\n",
       "    </tr>\n",
       "    <tr>\n",
       "      <th>2</th>\n",
       "      <td>3</td>\n",
       "      <td>60</td>\n",
       "      <td>RL</td>\n",
       "      <td>68.0</td>\n",
       "      <td>11250</td>\n",
       "      <td>Pave</td>\n",
       "      <td>NaN</td>\n",
       "      <td>IR1</td>\n",
       "      <td>Lvl</td>\n",
       "      <td>AllPub</td>\n",
       "      <td>...</td>\n",
       "      <td>0</td>\n",
       "      <td>NaN</td>\n",
       "      <td>NaN</td>\n",
       "      <td>NaN</td>\n",
       "      <td>0</td>\n",
       "      <td>9</td>\n",
       "      <td>2008</td>\n",
       "      <td>WD</td>\n",
       "      <td>Normal</td>\n",
       "      <td>223500</td>\n",
       "    </tr>\n",
       "    <tr>\n",
       "      <th>3</th>\n",
       "      <td>4</td>\n",
       "      <td>70</td>\n",
       "      <td>RL</td>\n",
       "      <td>60.0</td>\n",
       "      <td>9550</td>\n",
       "      <td>Pave</td>\n",
       "      <td>NaN</td>\n",
       "      <td>IR1</td>\n",
       "      <td>Lvl</td>\n",
       "      <td>AllPub</td>\n",
       "      <td>...</td>\n",
       "      <td>0</td>\n",
       "      <td>NaN</td>\n",
       "      <td>NaN</td>\n",
       "      <td>NaN</td>\n",
       "      <td>0</td>\n",
       "      <td>2</td>\n",
       "      <td>2006</td>\n",
       "      <td>WD</td>\n",
       "      <td>Abnorml</td>\n",
       "      <td>140000</td>\n",
       "    </tr>\n",
       "    <tr>\n",
       "      <th>4</th>\n",
       "      <td>5</td>\n",
       "      <td>60</td>\n",
       "      <td>RL</td>\n",
       "      <td>84.0</td>\n",
       "      <td>14260</td>\n",
       "      <td>Pave</td>\n",
       "      <td>NaN</td>\n",
       "      <td>IR1</td>\n",
       "      <td>Lvl</td>\n",
       "      <td>AllPub</td>\n",
       "      <td>...</td>\n",
       "      <td>0</td>\n",
       "      <td>NaN</td>\n",
       "      <td>NaN</td>\n",
       "      <td>NaN</td>\n",
       "      <td>0</td>\n",
       "      <td>12</td>\n",
       "      <td>2008</td>\n",
       "      <td>WD</td>\n",
       "      <td>Normal</td>\n",
       "      <td>250000</td>\n",
       "    </tr>\n",
       "  </tbody>\n",
       "</table>\n",
       "<p>5 rows × 81 columns</p>\n",
       "</div>"
      ],
      "text/plain": [
       "   Id  MSSubClass MSZoning  LotFrontage  LotArea Street Alley LotShape  \\\n",
       "0   1          60       RL         65.0     8450   Pave   NaN      Reg   \n",
       "1   2          20       RL         80.0     9600   Pave   NaN      Reg   \n",
       "2   3          60       RL         68.0    11250   Pave   NaN      IR1   \n",
       "3   4          70       RL         60.0     9550   Pave   NaN      IR1   \n",
       "4   5          60       RL         84.0    14260   Pave   NaN      IR1   \n",
       "\n",
       "  LandContour Utilities  ... PoolArea PoolQC Fence MiscFeature MiscVal MoSold  \\\n",
       "0         Lvl    AllPub  ...        0    NaN   NaN         NaN       0      2   \n",
       "1         Lvl    AllPub  ...        0    NaN   NaN         NaN       0      5   \n",
       "2         Lvl    AllPub  ...        0    NaN   NaN         NaN       0      9   \n",
       "3         Lvl    AllPub  ...        0    NaN   NaN         NaN       0      2   \n",
       "4         Lvl    AllPub  ...        0    NaN   NaN         NaN       0     12   \n",
       "\n",
       "  YrSold  SaleType  SaleCondition  SalePrice  \n",
       "0   2008        WD         Normal     208500  \n",
       "1   2007        WD         Normal     181500  \n",
       "2   2008        WD         Normal     223500  \n",
       "3   2006        WD        Abnorml     140000  \n",
       "4   2008        WD         Normal     250000  \n",
       "\n",
       "[5 rows x 81 columns]"
      ]
     },
     "execution_count": 2,
     "metadata": {},
     "output_type": "execute_result"
    }
   ],
   "source": [
    "master_train = pd.read_csv('/kaggle/input/house-prices-advanced-regression-techniques/train.csv')\n",
    "train = master_train\n",
    "train.head()"
   ]
  },
  {
   "cell_type": "code",
   "execution_count": 3,
   "id": "499f83c8",
   "metadata": {
    "execution": {
     "iopub.execute_input": "2022-11-12T17:30:44.040462Z",
     "iopub.status.busy": "2022-11-12T17:30:44.039706Z",
     "iopub.status.idle": "2022-11-12T17:30:44.090820Z",
     "shell.execute_reply": "2022-11-12T17:30:44.089833Z"
    },
    "papermill": {
     "duration": 0.064664,
     "end_time": "2022-11-12T17:30:44.093832",
     "exception": false,
     "start_time": "2022-11-12T17:30:44.029168",
     "status": "completed"
    },
    "tags": []
   },
   "outputs": [
    {
     "data": {
      "text/html": [
       "<div>\n",
       "<style scoped>\n",
       "    .dataframe tbody tr th:only-of-type {\n",
       "        vertical-align: middle;\n",
       "    }\n",
       "\n",
       "    .dataframe tbody tr th {\n",
       "        vertical-align: top;\n",
       "    }\n",
       "\n",
       "    .dataframe thead th {\n",
       "        text-align: right;\n",
       "    }\n",
       "</style>\n",
       "<table border=\"1\" class=\"dataframe\">\n",
       "  <thead>\n",
       "    <tr style=\"text-align: right;\">\n",
       "      <th></th>\n",
       "      <th>Id</th>\n",
       "      <th>MSSubClass</th>\n",
       "      <th>MSZoning</th>\n",
       "      <th>LotFrontage</th>\n",
       "      <th>LotArea</th>\n",
       "      <th>Street</th>\n",
       "      <th>Alley</th>\n",
       "      <th>LotShape</th>\n",
       "      <th>LandContour</th>\n",
       "      <th>Utilities</th>\n",
       "      <th>...</th>\n",
       "      <th>ScreenPorch</th>\n",
       "      <th>PoolArea</th>\n",
       "      <th>PoolQC</th>\n",
       "      <th>Fence</th>\n",
       "      <th>MiscFeature</th>\n",
       "      <th>MiscVal</th>\n",
       "      <th>MoSold</th>\n",
       "      <th>YrSold</th>\n",
       "      <th>SaleType</th>\n",
       "      <th>SaleCondition</th>\n",
       "    </tr>\n",
       "  </thead>\n",
       "  <tbody>\n",
       "    <tr>\n",
       "      <th>0</th>\n",
       "      <td>1461</td>\n",
       "      <td>20</td>\n",
       "      <td>RH</td>\n",
       "      <td>80.0</td>\n",
       "      <td>11622</td>\n",
       "      <td>Pave</td>\n",
       "      <td>NaN</td>\n",
       "      <td>Reg</td>\n",
       "      <td>Lvl</td>\n",
       "      <td>AllPub</td>\n",
       "      <td>...</td>\n",
       "      <td>120</td>\n",
       "      <td>0</td>\n",
       "      <td>NaN</td>\n",
       "      <td>MnPrv</td>\n",
       "      <td>NaN</td>\n",
       "      <td>0</td>\n",
       "      <td>6</td>\n",
       "      <td>2010</td>\n",
       "      <td>WD</td>\n",
       "      <td>Normal</td>\n",
       "    </tr>\n",
       "    <tr>\n",
       "      <th>1</th>\n",
       "      <td>1462</td>\n",
       "      <td>20</td>\n",
       "      <td>RL</td>\n",
       "      <td>81.0</td>\n",
       "      <td>14267</td>\n",
       "      <td>Pave</td>\n",
       "      <td>NaN</td>\n",
       "      <td>IR1</td>\n",
       "      <td>Lvl</td>\n",
       "      <td>AllPub</td>\n",
       "      <td>...</td>\n",
       "      <td>0</td>\n",
       "      <td>0</td>\n",
       "      <td>NaN</td>\n",
       "      <td>NaN</td>\n",
       "      <td>Gar2</td>\n",
       "      <td>12500</td>\n",
       "      <td>6</td>\n",
       "      <td>2010</td>\n",
       "      <td>WD</td>\n",
       "      <td>Normal</td>\n",
       "    </tr>\n",
       "    <tr>\n",
       "      <th>2</th>\n",
       "      <td>1463</td>\n",
       "      <td>60</td>\n",
       "      <td>RL</td>\n",
       "      <td>74.0</td>\n",
       "      <td>13830</td>\n",
       "      <td>Pave</td>\n",
       "      <td>NaN</td>\n",
       "      <td>IR1</td>\n",
       "      <td>Lvl</td>\n",
       "      <td>AllPub</td>\n",
       "      <td>...</td>\n",
       "      <td>0</td>\n",
       "      <td>0</td>\n",
       "      <td>NaN</td>\n",
       "      <td>MnPrv</td>\n",
       "      <td>NaN</td>\n",
       "      <td>0</td>\n",
       "      <td>3</td>\n",
       "      <td>2010</td>\n",
       "      <td>WD</td>\n",
       "      <td>Normal</td>\n",
       "    </tr>\n",
       "    <tr>\n",
       "      <th>3</th>\n",
       "      <td>1464</td>\n",
       "      <td>60</td>\n",
       "      <td>RL</td>\n",
       "      <td>78.0</td>\n",
       "      <td>9978</td>\n",
       "      <td>Pave</td>\n",
       "      <td>NaN</td>\n",
       "      <td>IR1</td>\n",
       "      <td>Lvl</td>\n",
       "      <td>AllPub</td>\n",
       "      <td>...</td>\n",
       "      <td>0</td>\n",
       "      <td>0</td>\n",
       "      <td>NaN</td>\n",
       "      <td>NaN</td>\n",
       "      <td>NaN</td>\n",
       "      <td>0</td>\n",
       "      <td>6</td>\n",
       "      <td>2010</td>\n",
       "      <td>WD</td>\n",
       "      <td>Normal</td>\n",
       "    </tr>\n",
       "    <tr>\n",
       "      <th>4</th>\n",
       "      <td>1465</td>\n",
       "      <td>120</td>\n",
       "      <td>RL</td>\n",
       "      <td>43.0</td>\n",
       "      <td>5005</td>\n",
       "      <td>Pave</td>\n",
       "      <td>NaN</td>\n",
       "      <td>IR1</td>\n",
       "      <td>HLS</td>\n",
       "      <td>AllPub</td>\n",
       "      <td>...</td>\n",
       "      <td>144</td>\n",
       "      <td>0</td>\n",
       "      <td>NaN</td>\n",
       "      <td>NaN</td>\n",
       "      <td>NaN</td>\n",
       "      <td>0</td>\n",
       "      <td>1</td>\n",
       "      <td>2010</td>\n",
       "      <td>WD</td>\n",
       "      <td>Normal</td>\n",
       "    </tr>\n",
       "  </tbody>\n",
       "</table>\n",
       "<p>5 rows × 80 columns</p>\n",
       "</div>"
      ],
      "text/plain": [
       "     Id  MSSubClass MSZoning  LotFrontage  LotArea Street Alley LotShape  \\\n",
       "0  1461          20       RH         80.0    11622   Pave   NaN      Reg   \n",
       "1  1462          20       RL         81.0    14267   Pave   NaN      IR1   \n",
       "2  1463          60       RL         74.0    13830   Pave   NaN      IR1   \n",
       "3  1464          60       RL         78.0     9978   Pave   NaN      IR1   \n",
       "4  1465         120       RL         43.0     5005   Pave   NaN      IR1   \n",
       "\n",
       "  LandContour Utilities  ... ScreenPorch PoolArea PoolQC  Fence MiscFeature  \\\n",
       "0         Lvl    AllPub  ...         120        0    NaN  MnPrv         NaN   \n",
       "1         Lvl    AllPub  ...           0        0    NaN    NaN        Gar2   \n",
       "2         Lvl    AllPub  ...           0        0    NaN  MnPrv         NaN   \n",
       "3         Lvl    AllPub  ...           0        0    NaN    NaN         NaN   \n",
       "4         HLS    AllPub  ...         144        0    NaN    NaN         NaN   \n",
       "\n",
       "  MiscVal MoSold  YrSold  SaleType  SaleCondition  \n",
       "0       0      6    2010        WD         Normal  \n",
       "1   12500      6    2010        WD         Normal  \n",
       "2       0      3    2010        WD         Normal  \n",
       "3       0      6    2010        WD         Normal  \n",
       "4       0      1    2010        WD         Normal  \n",
       "\n",
       "[5 rows x 80 columns]"
      ]
     },
     "execution_count": 3,
     "metadata": {},
     "output_type": "execute_result"
    }
   ],
   "source": [
    "master_test = pd.read_csv('/kaggle/input/house-prices-advanced-regression-techniques/test.csv')\n",
    "test = master_test\n",
    "test.head()"
   ]
  },
  {
   "cell_type": "markdown",
   "id": "1b4f8e08",
   "metadata": {
    "papermill": {
     "duration": 0.008872,
     "end_time": "2022-11-12T17:30:44.111878",
     "exception": false,
     "start_time": "2022-11-12T17:30:44.103006",
     "status": "completed"
    },
    "tags": []
   },
   "source": [
    "### Data Wrangling"
   ]
  },
  {
   "cell_type": "code",
   "execution_count": 4,
   "id": "2d5087b9",
   "metadata": {
    "execution": {
     "iopub.execute_input": "2022-11-12T17:30:44.133927Z",
     "iopub.status.busy": "2022-11-12T17:30:44.133174Z",
     "iopub.status.idle": "2022-11-12T17:30:44.139378Z",
     "shell.execute_reply": "2022-11-12T17:30:44.138391Z"
    },
    "papermill": {
     "duration": 0.01885,
     "end_time": "2022-11-12T17:30:44.141556",
     "exception": false,
     "start_time": "2022-11-12T17:30:44.122706",
     "status": "completed"
    },
    "tags": []
   },
   "outputs": [
    {
     "data": {
      "text/plain": [
       "(1460, 81)"
      ]
     },
     "execution_count": 4,
     "metadata": {},
     "output_type": "execute_result"
    }
   ],
   "source": [
    "train.shape"
   ]
  },
  {
   "cell_type": "code",
   "execution_count": 5,
   "id": "e11e8f88",
   "metadata": {
    "execution": {
     "iopub.execute_input": "2022-11-12T17:30:44.163052Z",
     "iopub.status.busy": "2022-11-12T17:30:44.162316Z",
     "iopub.status.idle": "2022-11-12T17:30:44.166696Z",
     "shell.execute_reply": "2022-11-12T17:30:44.165672Z"
    },
    "papermill": {
     "duration": 0.017805,
     "end_time": "2022-11-12T17:30:44.169107",
     "exception": false,
     "start_time": "2022-11-12T17:30:44.151302",
     "status": "completed"
    },
    "tags": []
   },
   "outputs": [],
   "source": [
    "#train.info(verbose=True)"
   ]
  },
  {
   "cell_type": "code",
   "execution_count": 6,
   "id": "44b09064",
   "metadata": {
    "execution": {
     "iopub.execute_input": "2022-11-12T17:30:44.190399Z",
     "iopub.status.busy": "2022-11-12T17:30:44.189959Z",
     "iopub.status.idle": "2022-11-12T17:30:44.194029Z",
     "shell.execute_reply": "2022-11-12T17:30:44.193129Z"
    },
    "papermill": {
     "duration": 0.016999,
     "end_time": "2022-11-12T17:30:44.196037",
     "exception": false,
     "start_time": "2022-11-12T17:30:44.179038",
     "status": "completed"
    },
    "tags": []
   },
   "outputs": [],
   "source": [
    "#pd.set_option('display.max_rows',None)\n",
    "#train.isna().sum()"
   ]
  },
  {
   "cell_type": "code",
   "execution_count": 7,
   "id": "c4afa776",
   "metadata": {
    "execution": {
     "iopub.execute_input": "2022-11-12T17:30:44.217098Z",
     "iopub.status.busy": "2022-11-12T17:30:44.216438Z",
     "iopub.status.idle": "2022-11-12T17:30:44.228093Z",
     "shell.execute_reply": "2022-11-12T17:30:44.227193Z"
    },
    "papermill": {
     "duration": 0.024967,
     "end_time": "2022-11-12T17:30:44.230564",
     "exception": false,
     "start_time": "2022-11-12T17:30:44.205597",
     "status": "completed"
    },
    "tags": []
   },
   "outputs": [],
   "source": [
    "train = train.drop(['MiscFeature', 'MiscVal'], axis=1)\n",
    "test = test.drop(['MiscFeature', 'MiscVal'], axis=1)"
   ]
  },
  {
   "cell_type": "code",
   "execution_count": 8,
   "id": "546ae44f",
   "metadata": {
    "execution": {
     "iopub.execute_input": "2022-11-12T17:30:44.251520Z",
     "iopub.status.busy": "2022-11-12T17:30:44.250842Z",
     "iopub.status.idle": "2022-11-12T17:30:44.256668Z",
     "shell.execute_reply": "2022-11-12T17:30:44.255260Z"
    },
    "papermill": {
     "duration": 0.01894,
     "end_time": "2022-11-12T17:30:44.258958",
     "exception": false,
     "start_time": "2022-11-12T17:30:44.240018",
     "status": "completed"
    },
    "tags": []
   },
   "outputs": [
    {
     "name": "stdout",
     "output_type": "stream",
     "text": [
      "shape of train data (1460, 79)\n",
      "shape of test data (1459, 78)\n"
     ]
    }
   ],
   "source": [
    "print(\"shape of train data\", train.shape)\n",
    "print(\"shape of test data\", test.shape)"
   ]
  },
  {
   "cell_type": "markdown",
   "id": "1d5a5ac1",
   "metadata": {
    "papermill": {
     "duration": 0.00903,
     "end_time": "2022-11-12T17:30:44.277404",
     "exception": false,
     "start_time": "2022-11-12T17:30:44.268374",
     "status": "completed"
    },
    "tags": []
   },
   "source": [
    "## Find Z-score for outliers"
   ]
  },
  {
   "cell_type": "markdown",
   "id": "4d36fc59",
   "metadata": {
    "papermill": {
     "duration": 0.008939,
     "end_time": "2022-11-12T17:30:44.295664",
     "exception": false,
     "start_time": "2022-11-12T17:30:44.286725",
     "status": "completed"
    },
    "tags": []
   },
   "source": [
    "get numeric data only"
   ]
  },
  {
   "cell_type": "code",
   "execution_count": 9,
   "id": "f7decbee",
   "metadata": {
    "execution": {
     "iopub.execute_input": "2022-11-12T17:30:44.316498Z",
     "iopub.status.busy": "2022-11-12T17:30:44.315798Z",
     "iopub.status.idle": "2022-11-12T17:30:44.325410Z",
     "shell.execute_reply": "2022-11-12T17:30:44.324354Z"
    },
    "papermill": {
     "duration": 0.023023,
     "end_time": "2022-11-12T17:30:44.327949",
     "exception": false,
     "start_time": "2022-11-12T17:30:44.304926",
     "status": "completed"
    },
    "tags": []
   },
   "outputs": [],
   "source": [
    "numerics = ['int16', 'int32', 'int64', 'float16', 'float32', 'float64']\n",
    "temp = train.select_dtypes(include=numerics)\n",
    "#temp.head()"
   ]
  },
  {
   "cell_type": "markdown",
   "id": "a246df52",
   "metadata": {
    "papermill": {
     "duration": 0.009022,
     "end_time": "2022-11-12T17:30:44.346552",
     "exception": false,
     "start_time": "2022-11-12T17:30:44.337530",
     "status": "completed"
    },
    "tags": []
   },
   "source": [
    "remove columns having null values"
   ]
  },
  {
   "cell_type": "code",
   "execution_count": 10,
   "id": "387fa9f2",
   "metadata": {
    "execution": {
     "iopub.execute_input": "2022-11-12T17:30:44.366754Z",
     "iopub.status.busy": "2022-11-12T17:30:44.366372Z",
     "iopub.status.idle": "2022-11-12T17:30:44.371268Z",
     "shell.execute_reply": "2022-11-12T17:30:44.370165Z"
    },
    "papermill": {
     "duration": 0.017726,
     "end_time": "2022-11-12T17:30:44.373557",
     "exception": false,
     "start_time": "2022-11-12T17:30:44.355831",
     "status": "completed"
    },
    "tags": []
   },
   "outputs": [],
   "source": [
    "#temp.isna().sum()>0"
   ]
  },
  {
   "cell_type": "code",
   "execution_count": 11,
   "id": "80303c64",
   "metadata": {
    "execution": {
     "iopub.execute_input": "2022-11-12T17:30:44.394248Z",
     "iopub.status.busy": "2022-11-12T17:30:44.393843Z",
     "iopub.status.idle": "2022-11-12T17:30:44.414308Z",
     "shell.execute_reply": "2022-11-12T17:30:44.413226Z"
    },
    "papermill": {
     "duration": 0.033909,
     "end_time": "2022-11-12T17:30:44.416952",
     "exception": false,
     "start_time": "2022-11-12T17:30:44.383043",
     "status": "completed"
    },
    "tags": []
   },
   "outputs": [
    {
     "data": {
      "text/html": [
       "<div>\n",
       "<style scoped>\n",
       "    .dataframe tbody tr th:only-of-type {\n",
       "        vertical-align: middle;\n",
       "    }\n",
       "\n",
       "    .dataframe tbody tr th {\n",
       "        vertical-align: top;\n",
       "    }\n",
       "\n",
       "    .dataframe thead th {\n",
       "        text-align: right;\n",
       "    }\n",
       "</style>\n",
       "<table border=\"1\" class=\"dataframe\">\n",
       "  <thead>\n",
       "    <tr style=\"text-align: right;\">\n",
       "      <th></th>\n",
       "      <th>Id</th>\n",
       "      <th>MSSubClass</th>\n",
       "      <th>LotArea</th>\n",
       "      <th>OverallQual</th>\n",
       "      <th>OverallCond</th>\n",
       "      <th>YearBuilt</th>\n",
       "      <th>YearRemodAdd</th>\n",
       "      <th>BsmtFinSF1</th>\n",
       "      <th>BsmtFinSF2</th>\n",
       "      <th>BsmtUnfSF</th>\n",
       "      <th>...</th>\n",
       "      <th>GarageArea</th>\n",
       "      <th>WoodDeckSF</th>\n",
       "      <th>OpenPorchSF</th>\n",
       "      <th>EnclosedPorch</th>\n",
       "      <th>3SsnPorch</th>\n",
       "      <th>ScreenPorch</th>\n",
       "      <th>PoolArea</th>\n",
       "      <th>MoSold</th>\n",
       "      <th>YrSold</th>\n",
       "      <th>SalePrice</th>\n",
       "    </tr>\n",
       "  </thead>\n",
       "  <tbody>\n",
       "    <tr>\n",
       "      <th>0</th>\n",
       "      <td>1</td>\n",
       "      <td>60</td>\n",
       "      <td>8450</td>\n",
       "      <td>7</td>\n",
       "      <td>5</td>\n",
       "      <td>2003</td>\n",
       "      <td>2003</td>\n",
       "      <td>706</td>\n",
       "      <td>0</td>\n",
       "      <td>150</td>\n",
       "      <td>...</td>\n",
       "      <td>548</td>\n",
       "      <td>0</td>\n",
       "      <td>61</td>\n",
       "      <td>0</td>\n",
       "      <td>0</td>\n",
       "      <td>0</td>\n",
       "      <td>0</td>\n",
       "      <td>2</td>\n",
       "      <td>2008</td>\n",
       "      <td>208500</td>\n",
       "    </tr>\n",
       "    <tr>\n",
       "      <th>1</th>\n",
       "      <td>2</td>\n",
       "      <td>20</td>\n",
       "      <td>9600</td>\n",
       "      <td>6</td>\n",
       "      <td>8</td>\n",
       "      <td>1976</td>\n",
       "      <td>1976</td>\n",
       "      <td>978</td>\n",
       "      <td>0</td>\n",
       "      <td>284</td>\n",
       "      <td>...</td>\n",
       "      <td>460</td>\n",
       "      <td>298</td>\n",
       "      <td>0</td>\n",
       "      <td>0</td>\n",
       "      <td>0</td>\n",
       "      <td>0</td>\n",
       "      <td>0</td>\n",
       "      <td>5</td>\n",
       "      <td>2007</td>\n",
       "      <td>181500</td>\n",
       "    </tr>\n",
       "    <tr>\n",
       "      <th>2</th>\n",
       "      <td>3</td>\n",
       "      <td>60</td>\n",
       "      <td>11250</td>\n",
       "      <td>7</td>\n",
       "      <td>5</td>\n",
       "      <td>2001</td>\n",
       "      <td>2002</td>\n",
       "      <td>486</td>\n",
       "      <td>0</td>\n",
       "      <td>434</td>\n",
       "      <td>...</td>\n",
       "      <td>608</td>\n",
       "      <td>0</td>\n",
       "      <td>42</td>\n",
       "      <td>0</td>\n",
       "      <td>0</td>\n",
       "      <td>0</td>\n",
       "      <td>0</td>\n",
       "      <td>9</td>\n",
       "      <td>2008</td>\n",
       "      <td>223500</td>\n",
       "    </tr>\n",
       "    <tr>\n",
       "      <th>3</th>\n",
       "      <td>4</td>\n",
       "      <td>70</td>\n",
       "      <td>9550</td>\n",
       "      <td>7</td>\n",
       "      <td>5</td>\n",
       "      <td>1915</td>\n",
       "      <td>1970</td>\n",
       "      <td>216</td>\n",
       "      <td>0</td>\n",
       "      <td>540</td>\n",
       "      <td>...</td>\n",
       "      <td>642</td>\n",
       "      <td>0</td>\n",
       "      <td>35</td>\n",
       "      <td>272</td>\n",
       "      <td>0</td>\n",
       "      <td>0</td>\n",
       "      <td>0</td>\n",
       "      <td>2</td>\n",
       "      <td>2006</td>\n",
       "      <td>140000</td>\n",
       "    </tr>\n",
       "    <tr>\n",
       "      <th>4</th>\n",
       "      <td>5</td>\n",
       "      <td>60</td>\n",
       "      <td>14260</td>\n",
       "      <td>8</td>\n",
       "      <td>5</td>\n",
       "      <td>2000</td>\n",
       "      <td>2000</td>\n",
       "      <td>655</td>\n",
       "      <td>0</td>\n",
       "      <td>490</td>\n",
       "      <td>...</td>\n",
       "      <td>836</td>\n",
       "      <td>192</td>\n",
       "      <td>84</td>\n",
       "      <td>0</td>\n",
       "      <td>0</td>\n",
       "      <td>0</td>\n",
       "      <td>0</td>\n",
       "      <td>12</td>\n",
       "      <td>2008</td>\n",
       "      <td>250000</td>\n",
       "    </tr>\n",
       "  </tbody>\n",
       "</table>\n",
       "<p>5 rows × 34 columns</p>\n",
       "</div>"
      ],
      "text/plain": [
       "   Id  MSSubClass  LotArea  OverallQual  OverallCond  YearBuilt  YearRemodAdd  \\\n",
       "0   1          60     8450            7            5       2003          2003   \n",
       "1   2          20     9600            6            8       1976          1976   \n",
       "2   3          60    11250            7            5       2001          2002   \n",
       "3   4          70     9550            7            5       1915          1970   \n",
       "4   5          60    14260            8            5       2000          2000   \n",
       "\n",
       "   BsmtFinSF1  BsmtFinSF2  BsmtUnfSF  ...  GarageArea  WoodDeckSF  \\\n",
       "0         706           0        150  ...         548           0   \n",
       "1         978           0        284  ...         460         298   \n",
       "2         486           0        434  ...         608           0   \n",
       "3         216           0        540  ...         642           0   \n",
       "4         655           0        490  ...         836         192   \n",
       "\n",
       "   OpenPorchSF  EnclosedPorch  3SsnPorch  ScreenPorch  PoolArea  MoSold  \\\n",
       "0           61              0          0            0         0       2   \n",
       "1            0              0          0            0         0       5   \n",
       "2           42              0          0            0         0       9   \n",
       "3           35            272          0            0         0       2   \n",
       "4           84              0          0            0         0      12   \n",
       "\n",
       "   YrSold  SalePrice  \n",
       "0    2008     208500  \n",
       "1    2007     181500  \n",
       "2    2008     223500  \n",
       "3    2006     140000  \n",
       "4    2008     250000  \n",
       "\n",
       "[5 rows x 34 columns]"
      ]
     },
     "execution_count": 11,
     "metadata": {},
     "output_type": "execute_result"
    }
   ],
   "source": [
    "temp = temp.drop(['LotFrontage', 'GarageYrBlt', 'MasVnrArea'], axis=1)\n",
    "temp.head()"
   ]
  },
  {
   "cell_type": "code",
   "execution_count": 12,
   "id": "e6207140",
   "metadata": {
    "execution": {
     "iopub.execute_input": "2022-11-12T17:30:44.438951Z",
     "iopub.status.busy": "2022-11-12T17:30:44.438564Z",
     "iopub.status.idle": "2022-11-12T17:30:44.451263Z",
     "shell.execute_reply": "2022-11-12T17:30:44.449744Z"
    },
    "papermill": {
     "duration": 0.027381,
     "end_time": "2022-11-12T17:30:44.454562",
     "exception": false,
     "start_time": "2022-11-12T17:30:44.427181",
     "status": "completed"
    },
    "tags": []
   },
   "outputs": [
    {
     "name": "stdout",
     "output_type": "stream",
     "text": [
      "shape with outliers (1460, 34)\n",
      "shape after outliers (1041, 34)\n"
     ]
    }
   ],
   "source": [
    "from scipy.stats import zscore\n",
    "\n",
    "print (\"shape with outliers\", temp.shape)\n",
    "print (\"shape after outliers\", temp[(np.abs(stats.zscore(temp)) < 3).all(axis=1)].shape)"
   ]
  },
  {
   "cell_type": "markdown",
   "id": "a056f6b2",
   "metadata": {
    "papermill": {
     "duration": 0.009356,
     "end_time": "2022-11-12T17:30:44.474101",
     "exception": false,
     "start_time": "2022-11-12T17:30:44.464745",
     "status": "completed"
    },
    "tags": []
   },
   "source": [
    "There is large amount of outliers. Almost one third of dataset so we will leave them"
   ]
  },
  {
   "cell_type": "markdown",
   "id": "93283683",
   "metadata": {
    "papermill": {
     "duration": 0.009258,
     "end_time": "2022-11-12T17:30:44.493065",
     "exception": false,
     "start_time": "2022-11-12T17:30:44.483807",
     "status": "completed"
    },
    "tags": []
   },
   "source": [
    "# Feature Engineering"
   ]
  },
  {
   "cell_type": "markdown",
   "id": "cc49673d",
   "metadata": {
    "papermill": {
     "duration": 0.009278,
     "end_time": "2022-11-12T17:30:44.512049",
     "exception": false,
     "start_time": "2022-11-12T17:30:44.502771",
     "status": "completed"
    },
    "tags": []
   },
   "source": [
    "## Separating independent and dependent variables"
   ]
  },
  {
   "cell_type": "code",
   "execution_count": 13,
   "id": "86e393d6",
   "metadata": {
    "execution": {
     "iopub.execute_input": "2022-11-12T17:30:44.533538Z",
     "iopub.status.busy": "2022-11-12T17:30:44.533110Z",
     "iopub.status.idle": "2022-11-12T17:30:44.561085Z",
     "shell.execute_reply": "2022-11-12T17:30:44.559877Z"
    },
    "papermill": {
     "duration": 0.041958,
     "end_time": "2022-11-12T17:30:44.563899",
     "exception": false,
     "start_time": "2022-11-12T17:30:44.521941",
     "status": "completed"
    },
    "tags": []
   },
   "outputs": [
    {
     "data": {
      "text/html": [
       "<div>\n",
       "<style scoped>\n",
       "    .dataframe tbody tr th:only-of-type {\n",
       "        vertical-align: middle;\n",
       "    }\n",
       "\n",
       "    .dataframe tbody tr th {\n",
       "        vertical-align: top;\n",
       "    }\n",
       "\n",
       "    .dataframe thead th {\n",
       "        text-align: right;\n",
       "    }\n",
       "</style>\n",
       "<table border=\"1\" class=\"dataframe\">\n",
       "  <thead>\n",
       "    <tr style=\"text-align: right;\">\n",
       "      <th></th>\n",
       "      <th>Id</th>\n",
       "      <th>MSSubClass</th>\n",
       "      <th>MSZoning</th>\n",
       "      <th>LotFrontage</th>\n",
       "      <th>LotArea</th>\n",
       "      <th>Street</th>\n",
       "      <th>Alley</th>\n",
       "      <th>LotShape</th>\n",
       "      <th>LandContour</th>\n",
       "      <th>Utilities</th>\n",
       "      <th>...</th>\n",
       "      <th>EnclosedPorch</th>\n",
       "      <th>3SsnPorch</th>\n",
       "      <th>ScreenPorch</th>\n",
       "      <th>PoolArea</th>\n",
       "      <th>PoolQC</th>\n",
       "      <th>Fence</th>\n",
       "      <th>MoSold</th>\n",
       "      <th>YrSold</th>\n",
       "      <th>SaleType</th>\n",
       "      <th>SaleCondition</th>\n",
       "    </tr>\n",
       "  </thead>\n",
       "  <tbody>\n",
       "    <tr>\n",
       "      <th>0</th>\n",
       "      <td>1</td>\n",
       "      <td>60</td>\n",
       "      <td>RL</td>\n",
       "      <td>65.0</td>\n",
       "      <td>8450</td>\n",
       "      <td>Pave</td>\n",
       "      <td>NaN</td>\n",
       "      <td>Reg</td>\n",
       "      <td>Lvl</td>\n",
       "      <td>AllPub</td>\n",
       "      <td>...</td>\n",
       "      <td>0</td>\n",
       "      <td>0</td>\n",
       "      <td>0</td>\n",
       "      <td>0</td>\n",
       "      <td>NaN</td>\n",
       "      <td>NaN</td>\n",
       "      <td>2</td>\n",
       "      <td>2008</td>\n",
       "      <td>WD</td>\n",
       "      <td>Normal</td>\n",
       "    </tr>\n",
       "    <tr>\n",
       "      <th>1</th>\n",
       "      <td>2</td>\n",
       "      <td>20</td>\n",
       "      <td>RL</td>\n",
       "      <td>80.0</td>\n",
       "      <td>9600</td>\n",
       "      <td>Pave</td>\n",
       "      <td>NaN</td>\n",
       "      <td>Reg</td>\n",
       "      <td>Lvl</td>\n",
       "      <td>AllPub</td>\n",
       "      <td>...</td>\n",
       "      <td>0</td>\n",
       "      <td>0</td>\n",
       "      <td>0</td>\n",
       "      <td>0</td>\n",
       "      <td>NaN</td>\n",
       "      <td>NaN</td>\n",
       "      <td>5</td>\n",
       "      <td>2007</td>\n",
       "      <td>WD</td>\n",
       "      <td>Normal</td>\n",
       "    </tr>\n",
       "    <tr>\n",
       "      <th>2</th>\n",
       "      <td>3</td>\n",
       "      <td>60</td>\n",
       "      <td>RL</td>\n",
       "      <td>68.0</td>\n",
       "      <td>11250</td>\n",
       "      <td>Pave</td>\n",
       "      <td>NaN</td>\n",
       "      <td>IR1</td>\n",
       "      <td>Lvl</td>\n",
       "      <td>AllPub</td>\n",
       "      <td>...</td>\n",
       "      <td>0</td>\n",
       "      <td>0</td>\n",
       "      <td>0</td>\n",
       "      <td>0</td>\n",
       "      <td>NaN</td>\n",
       "      <td>NaN</td>\n",
       "      <td>9</td>\n",
       "      <td>2008</td>\n",
       "      <td>WD</td>\n",
       "      <td>Normal</td>\n",
       "    </tr>\n",
       "    <tr>\n",
       "      <th>3</th>\n",
       "      <td>4</td>\n",
       "      <td>70</td>\n",
       "      <td>RL</td>\n",
       "      <td>60.0</td>\n",
       "      <td>9550</td>\n",
       "      <td>Pave</td>\n",
       "      <td>NaN</td>\n",
       "      <td>IR1</td>\n",
       "      <td>Lvl</td>\n",
       "      <td>AllPub</td>\n",
       "      <td>...</td>\n",
       "      <td>272</td>\n",
       "      <td>0</td>\n",
       "      <td>0</td>\n",
       "      <td>0</td>\n",
       "      <td>NaN</td>\n",
       "      <td>NaN</td>\n",
       "      <td>2</td>\n",
       "      <td>2006</td>\n",
       "      <td>WD</td>\n",
       "      <td>Abnorml</td>\n",
       "    </tr>\n",
       "    <tr>\n",
       "      <th>4</th>\n",
       "      <td>5</td>\n",
       "      <td>60</td>\n",
       "      <td>RL</td>\n",
       "      <td>84.0</td>\n",
       "      <td>14260</td>\n",
       "      <td>Pave</td>\n",
       "      <td>NaN</td>\n",
       "      <td>IR1</td>\n",
       "      <td>Lvl</td>\n",
       "      <td>AllPub</td>\n",
       "      <td>...</td>\n",
       "      <td>0</td>\n",
       "      <td>0</td>\n",
       "      <td>0</td>\n",
       "      <td>0</td>\n",
       "      <td>NaN</td>\n",
       "      <td>NaN</td>\n",
       "      <td>12</td>\n",
       "      <td>2008</td>\n",
       "      <td>WD</td>\n",
       "      <td>Normal</td>\n",
       "    </tr>\n",
       "  </tbody>\n",
       "</table>\n",
       "<p>5 rows × 78 columns</p>\n",
       "</div>"
      ],
      "text/plain": [
       "   Id  MSSubClass MSZoning  LotFrontage  LotArea Street Alley LotShape  \\\n",
       "0   1          60       RL         65.0     8450   Pave   NaN      Reg   \n",
       "1   2          20       RL         80.0     9600   Pave   NaN      Reg   \n",
       "2   3          60       RL         68.0    11250   Pave   NaN      IR1   \n",
       "3   4          70       RL         60.0     9550   Pave   NaN      IR1   \n",
       "4   5          60       RL         84.0    14260   Pave   NaN      IR1   \n",
       "\n",
       "  LandContour Utilities  ... EnclosedPorch 3SsnPorch ScreenPorch PoolArea  \\\n",
       "0         Lvl    AllPub  ...             0         0           0        0   \n",
       "1         Lvl    AllPub  ...             0         0           0        0   \n",
       "2         Lvl    AllPub  ...             0         0           0        0   \n",
       "3         Lvl    AllPub  ...           272         0           0        0   \n",
       "4         Lvl    AllPub  ...             0         0           0        0   \n",
       "\n",
       "  PoolQC Fence MoSold  YrSold  SaleType  SaleCondition  \n",
       "0    NaN   NaN      2    2008        WD         Normal  \n",
       "1    NaN   NaN      5    2007        WD         Normal  \n",
       "2    NaN   NaN      9    2008        WD         Normal  \n",
       "3    NaN   NaN      2    2006        WD        Abnorml  \n",
       "4    NaN   NaN     12    2008        WD         Normal  \n",
       "\n",
       "[5 rows x 78 columns]"
      ]
     },
     "execution_count": 13,
     "metadata": {},
     "output_type": "execute_result"
    }
   ],
   "source": [
    "X_train=train\n",
    "X_train=X_train.drop(['SalePrice'], axis=1)\n",
    "X_test=test\n",
    "X_train.head()"
   ]
  },
  {
   "cell_type": "code",
   "execution_count": 14,
   "id": "aef43d2d",
   "metadata": {
    "execution": {
     "iopub.execute_input": "2022-11-12T17:30:44.586169Z",
     "iopub.status.busy": "2022-11-12T17:30:44.585771Z",
     "iopub.status.idle": "2022-11-12T17:30:44.595482Z",
     "shell.execute_reply": "2022-11-12T17:30:44.594409Z"
    },
    "papermill": {
     "duration": 0.023479,
     "end_time": "2022-11-12T17:30:44.597865",
     "exception": false,
     "start_time": "2022-11-12T17:30:44.574386",
     "status": "completed"
    },
    "tags": []
   },
   "outputs": [
    {
     "data": {
      "text/plain": [
       "0    208500\n",
       "1    181500\n",
       "2    223500\n",
       "3    140000\n",
       "4    250000\n",
       "Name: SalePrice, dtype: int64"
      ]
     },
     "execution_count": 14,
     "metadata": {},
     "output_type": "execute_result"
    }
   ],
   "source": [
    "Y_train=train['SalePrice']\n",
    "Y_train.head()"
   ]
  },
  {
   "cell_type": "markdown",
   "id": "cce096f8",
   "metadata": {
    "papermill": {
     "duration": 0.010287,
     "end_time": "2022-11-12T17:30:44.618538",
     "exception": false,
     "start_time": "2022-11-12T17:30:44.608251",
     "status": "completed"
    },
    "tags": []
   },
   "source": [
    "## One hot encoding"
   ]
  },
  {
   "cell_type": "code",
   "execution_count": 15,
   "id": "4565d1eb",
   "metadata": {
    "execution": {
     "iopub.execute_input": "2022-11-12T17:30:44.641035Z",
     "iopub.status.busy": "2022-11-12T17:30:44.640232Z",
     "iopub.status.idle": "2022-11-12T17:30:44.717445Z",
     "shell.execute_reply": "2022-11-12T17:30:44.716311Z"
    },
    "papermill": {
     "duration": 0.091058,
     "end_time": "2022-11-12T17:30:44.719943",
     "exception": false,
     "start_time": "2022-11-12T17:30:44.628885",
     "status": "completed"
    },
    "tags": []
   },
   "outputs": [
    {
     "name": "stdout",
     "output_type": "stream",
     "text": [
      "shape before one hot encoding (1460, 78)\n",
      "shape after one hot encoding (1460, 284)\n"
     ]
    },
    {
     "data": {
      "text/html": [
       "<div>\n",
       "<style scoped>\n",
       "    .dataframe tbody tr th:only-of-type {\n",
       "        vertical-align: middle;\n",
       "    }\n",
       "\n",
       "    .dataframe tbody tr th {\n",
       "        vertical-align: top;\n",
       "    }\n",
       "\n",
       "    .dataframe thead th {\n",
       "        text-align: right;\n",
       "    }\n",
       "</style>\n",
       "<table border=\"1\" class=\"dataframe\">\n",
       "  <thead>\n",
       "    <tr style=\"text-align: right;\">\n",
       "      <th></th>\n",
       "      <th>Id</th>\n",
       "      <th>MSSubClass</th>\n",
       "      <th>LotFrontage</th>\n",
       "      <th>LotArea</th>\n",
       "      <th>OverallQual</th>\n",
       "      <th>OverallCond</th>\n",
       "      <th>YearBuilt</th>\n",
       "      <th>YearRemodAdd</th>\n",
       "      <th>MasVnrArea</th>\n",
       "      <th>BsmtFinSF1</th>\n",
       "      <th>...</th>\n",
       "      <th>SaleType_ConLw</th>\n",
       "      <th>SaleType_New</th>\n",
       "      <th>SaleType_Oth</th>\n",
       "      <th>SaleType_WD</th>\n",
       "      <th>SaleCondition_Abnorml</th>\n",
       "      <th>SaleCondition_AdjLand</th>\n",
       "      <th>SaleCondition_Alloca</th>\n",
       "      <th>SaleCondition_Family</th>\n",
       "      <th>SaleCondition_Normal</th>\n",
       "      <th>SaleCondition_Partial</th>\n",
       "    </tr>\n",
       "  </thead>\n",
       "  <tbody>\n",
       "    <tr>\n",
       "      <th>0</th>\n",
       "      <td>1</td>\n",
       "      <td>60</td>\n",
       "      <td>65.0</td>\n",
       "      <td>8450</td>\n",
       "      <td>7</td>\n",
       "      <td>5</td>\n",
       "      <td>2003</td>\n",
       "      <td>2003</td>\n",
       "      <td>196.0</td>\n",
       "      <td>706</td>\n",
       "      <td>...</td>\n",
       "      <td>0</td>\n",
       "      <td>0</td>\n",
       "      <td>0</td>\n",
       "      <td>1</td>\n",
       "      <td>0</td>\n",
       "      <td>0</td>\n",
       "      <td>0</td>\n",
       "      <td>0</td>\n",
       "      <td>1</td>\n",
       "      <td>0</td>\n",
       "    </tr>\n",
       "    <tr>\n",
       "      <th>1</th>\n",
       "      <td>2</td>\n",
       "      <td>20</td>\n",
       "      <td>80.0</td>\n",
       "      <td>9600</td>\n",
       "      <td>6</td>\n",
       "      <td>8</td>\n",
       "      <td>1976</td>\n",
       "      <td>1976</td>\n",
       "      <td>0.0</td>\n",
       "      <td>978</td>\n",
       "      <td>...</td>\n",
       "      <td>0</td>\n",
       "      <td>0</td>\n",
       "      <td>0</td>\n",
       "      <td>1</td>\n",
       "      <td>0</td>\n",
       "      <td>0</td>\n",
       "      <td>0</td>\n",
       "      <td>0</td>\n",
       "      <td>1</td>\n",
       "      <td>0</td>\n",
       "    </tr>\n",
       "    <tr>\n",
       "      <th>2</th>\n",
       "      <td>3</td>\n",
       "      <td>60</td>\n",
       "      <td>68.0</td>\n",
       "      <td>11250</td>\n",
       "      <td>7</td>\n",
       "      <td>5</td>\n",
       "      <td>2001</td>\n",
       "      <td>2002</td>\n",
       "      <td>162.0</td>\n",
       "      <td>486</td>\n",
       "      <td>...</td>\n",
       "      <td>0</td>\n",
       "      <td>0</td>\n",
       "      <td>0</td>\n",
       "      <td>1</td>\n",
       "      <td>0</td>\n",
       "      <td>0</td>\n",
       "      <td>0</td>\n",
       "      <td>0</td>\n",
       "      <td>1</td>\n",
       "      <td>0</td>\n",
       "    </tr>\n",
       "    <tr>\n",
       "      <th>3</th>\n",
       "      <td>4</td>\n",
       "      <td>70</td>\n",
       "      <td>60.0</td>\n",
       "      <td>9550</td>\n",
       "      <td>7</td>\n",
       "      <td>5</td>\n",
       "      <td>1915</td>\n",
       "      <td>1970</td>\n",
       "      <td>0.0</td>\n",
       "      <td>216</td>\n",
       "      <td>...</td>\n",
       "      <td>0</td>\n",
       "      <td>0</td>\n",
       "      <td>0</td>\n",
       "      <td>1</td>\n",
       "      <td>1</td>\n",
       "      <td>0</td>\n",
       "      <td>0</td>\n",
       "      <td>0</td>\n",
       "      <td>0</td>\n",
       "      <td>0</td>\n",
       "    </tr>\n",
       "    <tr>\n",
       "      <th>4</th>\n",
       "      <td>5</td>\n",
       "      <td>60</td>\n",
       "      <td>84.0</td>\n",
       "      <td>14260</td>\n",
       "      <td>8</td>\n",
       "      <td>5</td>\n",
       "      <td>2000</td>\n",
       "      <td>2000</td>\n",
       "      <td>350.0</td>\n",
       "      <td>655</td>\n",
       "      <td>...</td>\n",
       "      <td>0</td>\n",
       "      <td>0</td>\n",
       "      <td>0</td>\n",
       "      <td>1</td>\n",
       "      <td>0</td>\n",
       "      <td>0</td>\n",
       "      <td>0</td>\n",
       "      <td>0</td>\n",
       "      <td>1</td>\n",
       "      <td>0</td>\n",
       "    </tr>\n",
       "  </tbody>\n",
       "</table>\n",
       "<p>5 rows × 284 columns</p>\n",
       "</div>"
      ],
      "text/plain": [
       "   Id  MSSubClass  LotFrontage  LotArea  OverallQual  OverallCond  YearBuilt  \\\n",
       "0   1          60         65.0     8450            7            5       2003   \n",
       "1   2          20         80.0     9600            6            8       1976   \n",
       "2   3          60         68.0    11250            7            5       2001   \n",
       "3   4          70         60.0     9550            7            5       1915   \n",
       "4   5          60         84.0    14260            8            5       2000   \n",
       "\n",
       "   YearRemodAdd  MasVnrArea  BsmtFinSF1  ...  SaleType_ConLw  SaleType_New  \\\n",
       "0          2003       196.0         706  ...               0             0   \n",
       "1          1976         0.0         978  ...               0             0   \n",
       "2          2002       162.0         486  ...               0             0   \n",
       "3          1970         0.0         216  ...               0             0   \n",
       "4          2000       350.0         655  ...               0             0   \n",
       "\n",
       "   SaleType_Oth  SaleType_WD  SaleCondition_Abnorml  SaleCondition_AdjLand  \\\n",
       "0             0            1                      0                      0   \n",
       "1             0            1                      0                      0   \n",
       "2             0            1                      0                      0   \n",
       "3             0            1                      1                      0   \n",
       "4             0            1                      0                      0   \n",
       "\n",
       "   SaleCondition_Alloca  SaleCondition_Family  SaleCondition_Normal  \\\n",
       "0                     0                     0                     1   \n",
       "1                     0                     0                     1   \n",
       "2                     0                     0                     1   \n",
       "3                     0                     0                     0   \n",
       "4                     0                     0                     1   \n",
       "\n",
       "   SaleCondition_Partial  \n",
       "0                      0  \n",
       "1                      0  \n",
       "2                      0  \n",
       "3                      0  \n",
       "4                      0  \n",
       "\n",
       "[5 rows x 284 columns]"
      ]
     },
     "execution_count": 15,
     "metadata": {},
     "output_type": "execute_result"
    }
   ],
   "source": [
    "print(\"shape before one hot encoding\", X_train.shape)\n",
    "X_train=pd.get_dummies(X_train)\n",
    "\n",
    "dummies_frame = pd.get_dummies(X_train)\n",
    "X_test=X_test.reindex(columns = dummies_frame.columns, fill_value=0)\n",
    "#X_test=pd.get_dummies(X_test)\n",
    "\n",
    "print(\"shape after one hot encoding\", X_train.shape)\n",
    "X_train.head()"
   ]
  },
  {
   "cell_type": "code",
   "execution_count": 16,
   "id": "989c8a66",
   "metadata": {
    "execution": {
     "iopub.execute_input": "2022-11-12T17:30:44.743499Z",
     "iopub.status.busy": "2022-11-12T17:30:44.743074Z",
     "iopub.status.idle": "2022-11-12T17:30:44.750422Z",
     "shell.execute_reply": "2022-11-12T17:30:44.749193Z"
    },
    "papermill": {
     "duration": 0.022153,
     "end_time": "2022-11-12T17:30:44.752966",
     "exception": false,
     "start_time": "2022-11-12T17:30:44.730813",
     "status": "completed"
    },
    "tags": []
   },
   "outputs": [
    {
     "data": {
      "text/plain": [
       "(1459, 284)"
      ]
     },
     "execution_count": 16,
     "metadata": {},
     "output_type": "execute_result"
    }
   ],
   "source": [
    "X_test.shape"
   ]
  },
  {
   "cell_type": "code",
   "execution_count": 17,
   "id": "f657611a",
   "metadata": {
    "execution": {
     "iopub.execute_input": "2022-11-12T17:30:44.777047Z",
     "iopub.status.busy": "2022-11-12T17:30:44.776617Z",
     "iopub.status.idle": "2022-11-12T17:30:44.795555Z",
     "shell.execute_reply": "2022-11-12T17:30:44.794283Z"
    },
    "papermill": {
     "duration": 0.034262,
     "end_time": "2022-11-12T17:30:44.798305",
     "exception": false,
     "start_time": "2022-11-12T17:30:44.764043",
     "status": "completed"
    },
    "tags": []
   },
   "outputs": [],
   "source": [
    "X_train=X_train.fillna(0)\n",
    "X_test=X_test.fillna(0)\n",
    "#X.isna().sum()"
   ]
  },
  {
   "cell_type": "code",
   "execution_count": 18,
   "id": "be6bb7a5",
   "metadata": {
    "execution": {
     "iopub.execute_input": "2022-11-12T17:30:44.822058Z",
     "iopub.status.busy": "2022-11-12T17:30:44.821639Z",
     "iopub.status.idle": "2022-11-12T17:30:44.828015Z",
     "shell.execute_reply": "2022-11-12T17:30:44.826585Z"
    },
    "papermill": {
     "duration": 0.020958,
     "end_time": "2022-11-12T17:30:44.830588",
     "exception": false,
     "start_time": "2022-11-12T17:30:44.809630",
     "status": "completed"
    },
    "tags": []
   },
   "outputs": [
    {
     "name": "stdout",
     "output_type": "stream",
     "text": [
      "shape of X_train (1460, 284)\n",
      "shape of X_test (1459, 284)\n"
     ]
    }
   ],
   "source": [
    "print(\"shape of X_train\", X_train.shape)\n",
    "print(\"shape of X_test\", X_test.shape)"
   ]
  },
  {
   "cell_type": "markdown",
   "id": "d308e5f0",
   "metadata": {
    "papermill": {
     "duration": 0.010377,
     "end_time": "2022-11-12T17:30:44.851860",
     "exception": false,
     "start_time": "2022-11-12T17:30:44.841483",
     "status": "completed"
    },
    "tags": []
   },
   "source": [
    "## Data Scaling"
   ]
  },
  {
   "cell_type": "code",
   "execution_count": 19,
   "id": "2c232606",
   "metadata": {
    "execution": {
     "iopub.execute_input": "2022-11-12T17:30:44.874960Z",
     "iopub.status.busy": "2022-11-12T17:30:44.874548Z",
     "iopub.status.idle": "2022-11-12T17:30:45.048646Z",
     "shell.execute_reply": "2022-11-12T17:30:45.047373Z"
    },
    "papermill": {
     "duration": 0.188697,
     "end_time": "2022-11-12T17:30:45.051220",
     "exception": false,
     "start_time": "2022-11-12T17:30:44.862523",
     "status": "completed"
    },
    "tags": []
   },
   "outputs": [
    {
     "data": {
      "text/plain": [
       "array([[-1.73086488,  0.07337496,  0.2128772 , ..., -0.11785113,\n",
       "         0.4676514 , -0.30599503],\n",
       "       [-1.7284922 , -0.87256276,  0.64574726, ..., -0.11785113,\n",
       "         0.4676514 , -0.30599503],\n",
       "       [-1.72611953,  0.07337496,  0.29945121, ..., -0.11785113,\n",
       "         0.4676514 , -0.30599503],\n",
       "       ...,\n",
       "       [ 1.72611953,  0.30985939,  0.2417352 , ..., -0.11785113,\n",
       "         0.4676514 , -0.30599503],\n",
       "       [ 1.7284922 , -0.87256276,  0.29945121, ..., -0.11785113,\n",
       "         0.4676514 , -0.30599503],\n",
       "       [ 1.73086488, -0.87256276,  0.50145724, ..., -0.11785113,\n",
       "         0.4676514 , -0.30599503]])"
      ]
     },
     "execution_count": 19,
     "metadata": {},
     "output_type": "execute_result"
    }
   ],
   "source": [
    "from sklearn.preprocessing import StandardScaler\n",
    "\n",
    "scaler = StandardScaler()\n",
    "X_scaled_train = scaler.fit_transform(X_train)\n",
    "X_scaled_test = scaler.transform(X_test)\n",
    "X_scaled_train"
   ]
  },
  {
   "cell_type": "code",
   "execution_count": 20,
   "id": "1d736581",
   "metadata": {
    "execution": {
     "iopub.execute_input": "2022-11-12T17:30:45.075740Z",
     "iopub.status.busy": "2022-11-12T17:30:45.074418Z",
     "iopub.status.idle": "2022-11-12T17:30:45.082750Z",
     "shell.execute_reply": "2022-11-12T17:30:45.081609Z"
    },
    "papermill": {
     "duration": 0.022815,
     "end_time": "2022-11-12T17:30:45.085054",
     "exception": false,
     "start_time": "2022-11-12T17:30:45.062239",
     "status": "completed"
    },
    "tags": []
   },
   "outputs": [
    {
     "data": {
      "text/plain": [
       "False"
      ]
     },
     "execution_count": 20,
     "metadata": {},
     "output_type": "execute_result"
    }
   ],
   "source": [
    "np.any(np.isnan(X_scaled_train))"
   ]
  },
  {
   "cell_type": "markdown",
   "id": "ccd82779",
   "metadata": {
    "papermill": {
     "duration": 0.010486,
     "end_time": "2022-11-12T17:30:45.106610",
     "exception": false,
     "start_time": "2022-11-12T17:30:45.096124",
     "status": "completed"
    },
    "tags": []
   },
   "source": [
    "## Dimensionality Reduction using PCA"
   ]
  },
  {
   "cell_type": "code",
   "execution_count": 21,
   "id": "b13d81a1",
   "metadata": {
    "execution": {
     "iopub.execute_input": "2022-11-12T17:30:45.130148Z",
     "iopub.status.busy": "2022-11-12T17:30:45.129732Z",
     "iopub.status.idle": "2022-11-12T17:30:45.388916Z",
     "shell.execute_reply": "2022-11-12T17:30:45.387401Z"
    },
    "papermill": {
     "duration": 0.275307,
     "end_time": "2022-11-12T17:30:45.392920",
     "exception": false,
     "start_time": "2022-11-12T17:30:45.117613",
     "status": "completed"
    },
    "tags": []
   },
   "outputs": [
    {
     "data": {
      "text/plain": [
       "(1460, 180)"
      ]
     },
     "execution_count": 21,
     "metadata": {},
     "output_type": "execute_result"
    }
   ],
   "source": [
    "from sklearn.decomposition import PCA\n",
    "\n",
    "pca = PCA(0.95)\n",
    "X_pca = pca.fit_transform(X_scaled_train)\n",
    "X_pca.shape"
   ]
  },
  {
   "cell_type": "markdown",
   "id": "cfd5a638",
   "metadata": {
    "papermill": {
     "duration": 0.030428,
     "end_time": "2022-11-12T17:30:45.481575",
     "exception": false,
     "start_time": "2022-11-12T17:30:45.451147",
     "status": "completed"
    },
    "tags": []
   },
   "source": [
    "# Ridge Regression"
   ]
  },
  {
   "cell_type": "code",
   "execution_count": 22,
   "id": "ded8518d",
   "metadata": {
    "execution": {
     "iopub.execute_input": "2022-11-12T17:30:45.523211Z",
     "iopub.status.busy": "2022-11-12T17:30:45.522785Z",
     "iopub.status.idle": "2022-11-12T17:30:45.897660Z",
     "shell.execute_reply": "2022-11-12T17:30:45.896308Z"
    },
    "papermill": {
     "duration": 0.391763,
     "end_time": "2022-11-12T17:30:45.901361",
     "exception": false,
     "start_time": "2022-11-12T17:30:45.509598",
     "status": "completed"
    },
    "tags": []
   },
   "outputs": [
    {
     "data": {
      "text/plain": [
       "0.9331388287285954"
      ]
     },
     "execution_count": 22,
     "metadata": {},
     "output_type": "execute_result"
    }
   ],
   "source": [
    "from sklearn.linear_model import RidgeCV\n",
    "ridge = RidgeCV(alphas=[1e-3, 1e-2, 1e-1, 1], cv=4)\n",
    "ridge.fit(X_scaled_train, Y_train)\n",
    "ridge.score(X_scaled_train, Y_train)"
   ]
  },
  {
   "cell_type": "markdown",
   "id": "115cb4e4",
   "metadata": {
    "papermill": {
     "duration": 0.051068,
     "end_time": "2022-11-12T17:30:46.006647",
     "exception": false,
     "start_time": "2022-11-12T17:30:45.955579",
     "status": "completed"
    },
    "tags": []
   },
   "source": [
    "## Submission"
   ]
  },
  {
   "cell_type": "code",
   "execution_count": 23,
   "id": "45925a0b",
   "metadata": {
    "execution": {
     "iopub.execute_input": "2022-11-12T17:30:46.031594Z",
     "iopub.status.busy": "2022-11-12T17:30:46.030441Z",
     "iopub.status.idle": "2022-11-12T17:30:46.040562Z",
     "shell.execute_reply": "2022-11-12T17:30:46.037849Z"
    },
    "papermill": {
     "duration": 0.027339,
     "end_time": "2022-11-12T17:30:46.045294",
     "exception": false,
     "start_time": "2022-11-12T17:30:46.017955",
     "status": "completed"
    },
    "tags": []
   },
   "outputs": [
    {
     "name": "stdout",
     "output_type": "stream",
     "text": [
      "[ 85698.62377049 122775.21392917 152097.91382041 ... 143349.50266089\n",
      "  81530.35257763 197759.0456291 ]\n"
     ]
    }
   ],
   "source": [
    "predictions = ridge.predict(X_scaled_test)\n",
    "print(predictions)"
   ]
  },
  {
   "cell_type": "code",
   "execution_count": 24,
   "id": "6e3d7aa4",
   "metadata": {
    "execution": {
     "iopub.execute_input": "2022-11-12T17:30:46.105218Z",
     "iopub.status.busy": "2022-11-12T17:30:46.104515Z",
     "iopub.status.idle": "2022-11-12T17:30:46.113492Z",
     "shell.execute_reply": "2022-11-12T17:30:46.111869Z"
    },
    "papermill": {
     "duration": 0.043495,
     "end_time": "2022-11-12T17:30:46.117538",
     "exception": false,
     "start_time": "2022-11-12T17:30:46.074043",
     "status": "completed"
    },
    "tags": []
   },
   "outputs": [],
   "source": [
    "X_test['SalePrice']=predictions\n",
    "#X_test.head()"
   ]
  },
  {
   "cell_type": "code",
   "execution_count": 25,
   "id": "67e07af3",
   "metadata": {
    "execution": {
     "iopub.execute_input": "2022-11-12T17:30:46.164957Z",
     "iopub.status.busy": "2022-11-12T17:30:46.164510Z",
     "iopub.status.idle": "2022-11-12T17:30:46.179996Z",
     "shell.execute_reply": "2022-11-12T17:30:46.178784Z"
    },
    "papermill": {
     "duration": 0.036323,
     "end_time": "2022-11-12T17:30:46.182615",
     "exception": false,
     "start_time": "2022-11-12T17:30:46.146292",
     "status": "completed"
    },
    "tags": []
   },
   "outputs": [
    {
     "data": {
      "text/html": [
       "<div>\n",
       "<style scoped>\n",
       "    .dataframe tbody tr th:only-of-type {\n",
       "        vertical-align: middle;\n",
       "    }\n",
       "\n",
       "    .dataframe tbody tr th {\n",
       "        vertical-align: top;\n",
       "    }\n",
       "\n",
       "    .dataframe thead th {\n",
       "        text-align: right;\n",
       "    }\n",
       "</style>\n",
       "<table border=\"1\" class=\"dataframe\">\n",
       "  <thead>\n",
       "    <tr style=\"text-align: right;\">\n",
       "      <th></th>\n",
       "      <th>SalePrice</th>\n",
       "    </tr>\n",
       "    <tr>\n",
       "      <th>Id</th>\n",
       "      <th></th>\n",
       "    </tr>\n",
       "  </thead>\n",
       "  <tbody>\n",
       "    <tr>\n",
       "      <th>1461</th>\n",
       "      <td>85698.623770</td>\n",
       "    </tr>\n",
       "    <tr>\n",
       "      <th>1462</th>\n",
       "      <td>122775.213929</td>\n",
       "    </tr>\n",
       "    <tr>\n",
       "      <th>1463</th>\n",
       "      <td>152097.913820</td>\n",
       "    </tr>\n",
       "    <tr>\n",
       "      <th>1464</th>\n",
       "      <td>160320.625236</td>\n",
       "    </tr>\n",
       "    <tr>\n",
       "      <th>1465</th>\n",
       "      <td>127745.549168</td>\n",
       "    </tr>\n",
       "  </tbody>\n",
       "</table>\n",
       "</div>"
      ],
      "text/plain": [
       "          SalePrice\n",
       "Id                 \n",
       "1461   85698.623770\n",
       "1462  122775.213929\n",
       "1463  152097.913820\n",
       "1464  160320.625236\n",
       "1465  127745.549168"
      ]
     },
     "execution_count": 25,
     "metadata": {},
     "output_type": "execute_result"
    }
   ],
   "source": [
    "submit = X_test[['Id','SalePrice']].set_index('Id')\n",
    "Id = X_test[[\"Id\"]].to_numpy()\n",
    "SalePrice = X_test[[\"SalePrice\"]].to_numpy()\n",
    "submit.head()"
   ]
  },
  {
   "cell_type": "code",
   "execution_count": 26,
   "id": "97825398",
   "metadata": {
    "execution": {
     "iopub.execute_input": "2022-11-12T17:30:46.207770Z",
     "iopub.status.busy": "2022-11-12T17:30:46.206622Z",
     "iopub.status.idle": "2022-11-12T17:30:48.366891Z",
     "shell.execute_reply": "2022-11-12T17:30:48.365747Z"
    },
    "papermill": {
     "duration": 2.175728,
     "end_time": "2022-11-12T17:30:48.369656",
     "exception": false,
     "start_time": "2022-11-12T17:30:46.193928",
     "status": "completed"
    },
    "tags": []
   },
   "outputs": [
    {
     "name": "stdout",
     "output_type": "stream",
     "text": [
      "Id,SalePrice\r\n",
      "1461,85698.62377048585\r\n",
      "1462,122775.2139291711\r\n",
      "1463,152097.91382040922\r\n",
      "1464,160320.62523626236\r\n",
      "1465,127745.54916827063\r\n",
      "1466,141600.50100826676\r\n",
      "1467,139108.87343639255\r\n",
      "1468,126855.09131028436\r\n",
      "1469,142171.73343868396\r\n"
     ]
    }
   ],
   "source": [
    "!cd /kaggle/working\n",
    "submit.to_csv(\"submission.csv\")\n",
    "!head submission.csv"
   ]
  },
  {
   "cell_type": "code",
   "execution_count": 27,
   "id": "bbe8595f",
   "metadata": {
    "execution": {
     "iopub.execute_input": "2022-11-12T17:30:48.395595Z",
     "iopub.status.busy": "2022-11-12T17:30:48.394764Z",
     "iopub.status.idle": "2022-11-12T17:30:48.402751Z",
     "shell.execute_reply": "2022-11-12T17:30:48.401578Z"
    },
    "papermill": {
     "duration": 0.023864,
     "end_time": "2022-11-12T17:30:48.405045",
     "exception": false,
     "start_time": "2022-11-12T17:30:48.381181",
     "status": "completed"
    },
    "tags": []
   },
   "outputs": [
    {
     "data": {
      "text/plain": [
       "(1459, 1)"
      ]
     },
     "execution_count": 27,
     "metadata": {},
     "output_type": "execute_result"
    }
   ],
   "source": [
    "SalePrice.shape"
   ]
  }
 ],
 "metadata": {
  "kernelspec": {
   "display_name": "Python 3",
   "language": "python",
   "name": "python3"
  },
  "language_info": {
   "codemirror_mode": {
    "name": "ipython",
    "version": 3
   },
   "file_extension": ".py",
   "mimetype": "text/x-python",
   "name": "python",
   "nbconvert_exporter": "python",
   "pygments_lexer": "ipython3",
   "version": "3.7.12"
  },
  "papermill": {
   "default_parameters": {},
   "duration": 14.916552,
   "end_time": "2022-11-12T17:30:49.239932",
   "environment_variables": {},
   "exception": null,
   "input_path": "__notebook__.ipynb",
   "output_path": "__notebook__.ipynb",
   "parameters": {},
   "start_time": "2022-11-12T17:30:34.323380",
   "version": "2.3.4"
  }
 },
 "nbformat": 4,
 "nbformat_minor": 5
}
